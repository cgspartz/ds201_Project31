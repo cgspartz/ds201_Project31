{
 "cells": [
  {
   "cell_type": "markdown",
   "id": "56fe0009",
   "metadata": {},
   "source": [
    "## Predicting All Stars Based of a Full Year of Baseball\n",
    "Team Members: Chris Spartz, Kevin Gnaster, Zach Josten <br />\n",
    "Team Number: 31"
   ]
  },
  {
   "cell_type": "code",
   "execution_count": 1,
   "id": "65ed5e00",
   "metadata": {},
   "outputs": [],
   "source": [
    "import numpy as np\n",
    "import numpy.matlib\n",
    "import pandas as pd\n",
    "import matplotlib.pyplot as plt\n",
    "from sklearn import preprocessing\n",
    "import scipy.stats as st\n",
    "import matplotlib.colors as colors\n",
    "%matplotlib inline\n",
    "from sklearn.cluster import KMeans\n",
    "import seaborn as sns; sns.set()\n",
    "from sklearn.metrics import roc_auc_score, roc_curve\n",
    "from sklearn import metrics\n",
    "from sklearn.metrics import confusion_matrix\n",
    "from sklearn.model_selection import train_test_split\n",
    "from sklearn.linear_model import LogisticRegression\n",
    "import statsmodels.formula.api as smf\n",
    "import statsmodels.api as sm\n",
    "import math\n",
    "from sklearn.feature_selection import SelectKBest\n",
    "from sklearn.feature_selection import chi2, f_regression"
   ]
  },
  {
   "cell_type": "code",
   "execution_count": 2,
   "id": "e972ae88",
   "metadata": {
    "scrolled": true
   },
   "outputs": [
    {
     "data": {
      "text/html": [
       "<div>\n",
       "<style scoped>\n",
       "    .dataframe tbody tr th:only-of-type {\n",
       "        vertical-align: middle;\n",
       "    }\n",
       "\n",
       "    .dataframe tbody tr th {\n",
       "        vertical-align: top;\n",
       "    }\n",
       "\n",
       "    .dataframe thead th {\n",
       "        text-align: right;\n",
       "    }\n",
       "</style>\n",
       "<table border=\"1\" class=\"dataframe\">\n",
       "  <thead>\n",
       "    <tr style=\"text-align: right;\">\n",
       "      <th></th>\n",
       "      <th>Season</th>\n",
       "      <th>YearName</th>\n",
       "      <th>Name</th>\n",
       "      <th>Team</th>\n",
       "      <th>G</th>\n",
       "      <th>PA</th>\n",
       "      <th>HR</th>\n",
       "      <th>R</th>\n",
       "      <th>RBI</th>\n",
       "      <th>SB</th>\n",
       "      <th>...</th>\n",
       "      <th>OBP</th>\n",
       "      <th>SLG</th>\n",
       "      <th>wOBA</th>\n",
       "      <th>wRC+</th>\n",
       "      <th>BsR</th>\n",
       "      <th>Off</th>\n",
       "      <th>Def</th>\n",
       "      <th>WAR</th>\n",
       "      <th>playerid</th>\n",
       "      <th>ASstarter</th>\n",
       "    </tr>\n",
       "  </thead>\n",
       "  <tbody>\n",
       "    <tr>\n",
       "      <th>0</th>\n",
       "      <td>2019</td>\n",
       "      <td>2019Mike Trout</td>\n",
       "      <td>Mike Trout</td>\n",
       "      <td>LAA</td>\n",
       "      <td>134</td>\n",
       "      <td>600</td>\n",
       "      <td>45</td>\n",
       "      <td>110</td>\n",
       "      <td>104</td>\n",
       "      <td>11</td>\n",
       "      <td>...</td>\n",
       "      <td>0.438</td>\n",
       "      <td>0.645</td>\n",
       "      <td>0.436</td>\n",
       "      <td>177.0</td>\n",
       "      <td>7.1</td>\n",
       "      <td>65.9</td>\n",
       "      <td>-0.3</td>\n",
       "      <td>8.4</td>\n",
       "      <td>10155</td>\n",
       "      <td>1</td>\n",
       "    </tr>\n",
       "    <tr>\n",
       "      <th>1</th>\n",
       "      <td>2019</td>\n",
       "      <td>2019Alex Bregman</td>\n",
       "      <td>Alex Bregman</td>\n",
       "      <td>HOU</td>\n",
       "      <td>156</td>\n",
       "      <td>690</td>\n",
       "      <td>41</td>\n",
       "      <td>122</td>\n",
       "      <td>112</td>\n",
       "      <td>5</td>\n",
       "      <td>...</td>\n",
       "      <td>0.423</td>\n",
       "      <td>0.592</td>\n",
       "      <td>0.418</td>\n",
       "      <td>167.0</td>\n",
       "      <td>-2.1</td>\n",
       "      <td>57.3</td>\n",
       "      <td>4.8</td>\n",
       "      <td>8.4</td>\n",
       "      <td>17678</td>\n",
       "      <td>1</td>\n",
       "    </tr>\n",
       "    <tr>\n",
       "      <th>2</th>\n",
       "      <td>2019</td>\n",
       "      <td>2019Christian Yelich</td>\n",
       "      <td>Christian Yelich</td>\n",
       "      <td>MIL</td>\n",
       "      <td>130</td>\n",
       "      <td>580</td>\n",
       "      <td>44</td>\n",
       "      <td>100</td>\n",
       "      <td>97</td>\n",
       "      <td>30</td>\n",
       "      <td>...</td>\n",
       "      <td>0.429</td>\n",
       "      <td>0.671</td>\n",
       "      <td>0.442</td>\n",
       "      <td>174.0</td>\n",
       "      <td>8.5</td>\n",
       "      <td>65.2</td>\n",
       "      <td>-3.9</td>\n",
       "      <td>7.8</td>\n",
       "      <td>11477</td>\n",
       "      <td>1</td>\n",
       "    </tr>\n",
       "    <tr>\n",
       "      <th>3</th>\n",
       "      <td>2019</td>\n",
       "      <td>2019Cody Bellinger</td>\n",
       "      <td>Cody Bellinger</td>\n",
       "      <td>LAD</td>\n",
       "      <td>156</td>\n",
       "      <td>660</td>\n",
       "      <td>47</td>\n",
       "      <td>121</td>\n",
       "      <td>115</td>\n",
       "      <td>15</td>\n",
       "      <td>...</td>\n",
       "      <td>0.406</td>\n",
       "      <td>0.629</td>\n",
       "      <td>0.415</td>\n",
       "      <td>161.0</td>\n",
       "      <td>1.4</td>\n",
       "      <td>54.2</td>\n",
       "      <td>3.4</td>\n",
       "      <td>7.7</td>\n",
       "      <td>15998</td>\n",
       "      <td>1</td>\n",
       "    </tr>\n",
       "    <tr>\n",
       "      <th>4</th>\n",
       "      <td>2019</td>\n",
       "      <td>2019Marcus Semien</td>\n",
       "      <td>Marcus Semien</td>\n",
       "      <td>OAK</td>\n",
       "      <td>162</td>\n",
       "      <td>747</td>\n",
       "      <td>33</td>\n",
       "      <td>123</td>\n",
       "      <td>92</td>\n",
       "      <td>10</td>\n",
       "      <td>...</td>\n",
       "      <td>0.369</td>\n",
       "      <td>0.522</td>\n",
       "      <td>0.373</td>\n",
       "      <td>138.0</td>\n",
       "      <td>1.7</td>\n",
       "      <td>37.7</td>\n",
       "      <td>14.1</td>\n",
       "      <td>7.6</td>\n",
       "      <td>12533</td>\n",
       "      <td>0</td>\n",
       "    </tr>\n",
       "  </tbody>\n",
       "</table>\n",
       "<p>5 rows × 25 columns</p>\n",
       "</div>"
      ],
      "text/plain": [
       "   Season              YearName              Name Team    G   PA  HR    R  \\\n",
       "0    2019        2019Mike Trout        Mike Trout  LAA  134  600  45  110   \n",
       "1    2019      2019Alex Bregman      Alex Bregman  HOU  156  690  41  122   \n",
       "2    2019  2019Christian Yelich  Christian Yelich  MIL  130  580  44  100   \n",
       "3    2019    2019Cody Bellinger    Cody Bellinger  LAD  156  660  47  121   \n",
       "4    2019     2019Marcus Semien     Marcus Semien  OAK  162  747  33  123   \n",
       "\n",
       "   RBI  SB  ...    OBP    SLG   wOBA   wRC+  BsR   Off   Def  WAR  playerid  \\\n",
       "0  104  11  ...  0.438  0.645  0.436  177.0  7.1  65.9  -0.3  8.4     10155   \n",
       "1  112   5  ...  0.423  0.592  0.418  167.0 -2.1  57.3   4.8  8.4     17678   \n",
       "2   97  30  ...  0.429  0.671  0.442  174.0  8.5  65.2  -3.9  7.8     11477   \n",
       "3  115  15  ...  0.406  0.629  0.415  161.0  1.4  54.2   3.4  7.7     15998   \n",
       "4   92  10  ...  0.369  0.522  0.373  138.0  1.7  37.7  14.1  7.6     12533   \n",
       "\n",
       "   ASstarter  \n",
       "0          1  \n",
       "1          1  \n",
       "2          1  \n",
       "3          1  \n",
       "4          0  \n",
       "\n",
       "[5 rows x 25 columns]"
      ]
     },
     "execution_count": 2,
     "metadata": {},
     "output_type": "execute_result"
    }
   ],
   "source": [
    "star = pd.read_excel(\"FinalDatasetMLBallStar 11.25.21.xlsx\")\n",
    "star.drop(columns=['xwOBA'], inplace=True)\n",
    "star=star.rename(columns={'All Star Starter?':'ASstarter'})\n",
    "star.head(5)"
   ]
  },
  {
   "cell_type": "code",
   "execution_count": 3,
   "id": "6b2cce52",
   "metadata": {},
   "outputs": [],
   "source": [
    "star2 = star.dropna(how='any',axis=0).copy()"
   ]
  },
  {
   "cell_type": "code",
   "execution_count": 4,
   "id": "174f9989",
   "metadata": {},
   "outputs": [
    {
     "data": {
      "text/plain": [
       "(20161, 25)"
      ]
     },
     "execution_count": 4,
     "metadata": {},
     "output_type": "execute_result"
    }
   ],
   "source": [
    "star2.shape"
   ]
  },
  {
   "cell_type": "code",
   "execution_count": 5,
   "id": "4bbf0455",
   "metadata": {},
   "outputs": [
    {
     "data": {
      "text/html": [
       "<div>\n",
       "<style scoped>\n",
       "    .dataframe tbody tr th:only-of-type {\n",
       "        vertical-align: middle;\n",
       "    }\n",
       "\n",
       "    .dataframe tbody tr th {\n",
       "        vertical-align: top;\n",
       "    }\n",
       "\n",
       "    .dataframe thead th {\n",
       "        text-align: right;\n",
       "    }\n",
       "</style>\n",
       "<table border=\"1\" class=\"dataframe\">\n",
       "  <thead>\n",
       "    <tr style=\"text-align: right;\">\n",
       "      <th></th>\n",
       "      <th>ASstarter</th>\n",
       "    </tr>\n",
       "  </thead>\n",
       "  <tbody>\n",
       "    <tr>\n",
       "      <th>ASstarter</th>\n",
       "      <td>1.000000</td>\n",
       "    </tr>\n",
       "    <tr>\n",
       "      <th>WAR</th>\n",
       "      <td>0.413208</td>\n",
       "    </tr>\n",
       "    <tr>\n",
       "      <th>Off</th>\n",
       "      <td>0.402159</td>\n",
       "    </tr>\n",
       "    <tr>\n",
       "      <th>HR</th>\n",
       "      <td>0.352875</td>\n",
       "    </tr>\n",
       "    <tr>\n",
       "      <th>RBI</th>\n",
       "      <td>0.328526</td>\n",
       "    </tr>\n",
       "    <tr>\n",
       "      <th>R</th>\n",
       "      <td>0.319117</td>\n",
       "    </tr>\n",
       "    <tr>\n",
       "      <th>PA</th>\n",
       "      <td>0.264179</td>\n",
       "    </tr>\n",
       "    <tr>\n",
       "      <th>G</th>\n",
       "      <td>0.226927</td>\n",
       "    </tr>\n",
       "    <tr>\n",
       "      <th>SB</th>\n",
       "      <td>0.166729</td>\n",
       "    </tr>\n",
       "    <tr>\n",
       "      <th>ISO</th>\n",
       "      <td>0.153212</td>\n",
       "    </tr>\n",
       "    <tr>\n",
       "      <th>SLG</th>\n",
       "      <td>0.146887</td>\n",
       "    </tr>\n",
       "    <tr>\n",
       "      <th>wRC+</th>\n",
       "      <td>0.129601</td>\n",
       "    </tr>\n",
       "    <tr>\n",
       "      <th>wOBA</th>\n",
       "      <td>0.127734</td>\n",
       "    </tr>\n",
       "    <tr>\n",
       "      <th>OBP</th>\n",
       "      <td>0.112059</td>\n",
       "    </tr>\n",
       "    <tr>\n",
       "      <th>AVG</th>\n",
       "      <td>0.105985</td>\n",
       "    </tr>\n",
       "    <tr>\n",
       "      <th>BB%</th>\n",
       "      <td>0.073941</td>\n",
       "    </tr>\n",
       "    <tr>\n",
       "      <th>BABIP</th>\n",
       "      <td>0.063696</td>\n",
       "    </tr>\n",
       "    <tr>\n",
       "      <th>BsR</th>\n",
       "      <td>0.048647</td>\n",
       "    </tr>\n",
       "    <tr>\n",
       "      <th>Season</th>\n",
       "      <td>0.003286</td>\n",
       "    </tr>\n",
       "    <tr>\n",
       "      <th>Def</th>\n",
       "      <td>-0.016528</td>\n",
       "    </tr>\n",
       "    <tr>\n",
       "      <th>K%</th>\n",
       "      <td>-0.069844</td>\n",
       "    </tr>\n",
       "  </tbody>\n",
       "</table>\n",
       "</div>"
      ],
      "text/plain": [
       "           ASstarter\n",
       "ASstarter   1.000000\n",
       "WAR         0.413208\n",
       "Off         0.402159\n",
       "HR          0.352875\n",
       "RBI         0.328526\n",
       "R           0.319117\n",
       "PA          0.264179\n",
       "G           0.226927\n",
       "SB          0.166729\n",
       "ISO         0.153212\n",
       "SLG         0.146887\n",
       "wRC+        0.129601\n",
       "wOBA        0.127734\n",
       "OBP         0.112059\n",
       "AVG         0.105985\n",
       "BB%         0.073941\n",
       "BABIP       0.063696\n",
       "BsR         0.048647\n",
       "Season      0.003286\n",
       "Def        -0.016528\n",
       "K%         -0.069844"
      ]
     },
     "execution_count": 5,
     "metadata": {},
     "output_type": "execute_result"
    }
   ],
   "source": [
    "star2.drop(columns=['playerid'], inplace=True)\n",
    "starCorr=star2.corr()\n",
    "starCorr.iloc[:,-1:].sort_values(by='ASstarter', ascending=False)"
   ]
  },
  {
   "cell_type": "code",
   "execution_count": 6,
   "id": "eebbfcf8",
   "metadata": {},
   "outputs": [
    {
     "data": {
      "text/plain": [
       "(3803, 25)"
      ]
     },
     "execution_count": 6,
     "metadata": {},
     "output_type": "execute_result"
    }
   ],
   "source": [
    "star3 = star2.loc[star2['PA'] >= 450].reset_index()\n",
    "star3.shape"
   ]
  },
  {
   "cell_type": "code",
   "execution_count": 7,
   "id": "a2919084",
   "metadata": {},
   "outputs": [],
   "source": [
    "traditional=[\"HR\",\"R\",\"RBI\",\"SB\",\"BB%\",\"K%\",\"AVG\",\"OBP\",\"SLG\"]\n",
    "advanced=[\"ISO\",\"BABIP\",\"wOBA\",\"wRC+\",\"BsR\",\"Off\",\"Def\",\"WAR\",'ASstarter']\n",
    "allStats=[\"HR\",\"R\",\"RBI\",\"SB\",\"BB%\",\"K%\",\"AVG\",\"OBP\",\"SLG\",\"ISO\",\"BABIP\",\"wOBA\",\"wRC+\",\"BsR\",\"Off\",\"Def\",\"WAR\"]\n",
    "y=star3.ASstarter\n",
    "#Training testing split is 75-25"
   ]
  },
  {
   "cell_type": "markdown",
   "id": "2625b4fe",
   "metadata": {},
   "source": [
    "# Traditional"
   ]
  },
  {
   "cell_type": "code",
   "execution_count": 8,
   "id": "8a87a850",
   "metadata": {},
   "outputs": [
    {
     "data": {
      "text/html": [
       "<div>\n",
       "<style scoped>\n",
       "    .dataframe tbody tr th:only-of-type {\n",
       "        vertical-align: middle;\n",
       "    }\n",
       "\n",
       "    .dataframe tbody tr th {\n",
       "        vertical-align: top;\n",
       "    }\n",
       "\n",
       "    .dataframe thead th {\n",
       "        text-align: right;\n",
       "    }\n",
       "</style>\n",
       "<table border=\"1\" class=\"dataframe\">\n",
       "  <thead>\n",
       "    <tr style=\"text-align: right;\">\n",
       "      <th></th>\n",
       "      <th>Features</th>\n",
       "      <th>Score</th>\n",
       "    </tr>\n",
       "  </thead>\n",
       "  <tbody>\n",
       "    <tr>\n",
       "      <th>8</th>\n",
       "      <td>SLG</td>\n",
       "      <td>540.708224</td>\n",
       "    </tr>\n",
       "    <tr>\n",
       "      <th>7</th>\n",
       "      <td>OBP</td>\n",
       "      <td>458.366828</td>\n",
       "    </tr>\n",
       "    <tr>\n",
       "      <th>1</th>\n",
       "      <td>R</td>\n",
       "      <td>434.043321</td>\n",
       "    </tr>\n",
       "    <tr>\n",
       "      <th>2</th>\n",
       "      <td>RBI</td>\n",
       "      <td>400.765602</td>\n",
       "    </tr>\n",
       "    <tr>\n",
       "      <th>6</th>\n",
       "      <td>AVG</td>\n",
       "      <td>392.610457</td>\n",
       "    </tr>\n",
       "    <tr>\n",
       "      <th>0</th>\n",
       "      <td>HR</td>\n",
       "      <td>361.761635</td>\n",
       "    </tr>\n",
       "    <tr>\n",
       "      <th>4</th>\n",
       "      <td>BB%</td>\n",
       "      <td>119.048751</td>\n",
       "    </tr>\n",
       "    <tr>\n",
       "      <th>5</th>\n",
       "      <td>K%</td>\n",
       "      <td>7.207973</td>\n",
       "    </tr>\n",
       "    <tr>\n",
       "      <th>3</th>\n",
       "      <td>SB</td>\n",
       "      <td>6.137440</td>\n",
       "    </tr>\n",
       "  </tbody>\n",
       "</table>\n",
       "</div>"
      ],
      "text/plain": [
       "  Features       Score\n",
       "8      SLG  540.708224\n",
       "7      OBP  458.366828\n",
       "1        R  434.043321\n",
       "2      RBI  400.765602\n",
       "6      AVG  392.610457\n",
       "0       HR  361.761635\n",
       "4      BB%  119.048751\n",
       "5       K%    7.207973\n",
       "3       SB    6.137440"
      ]
     },
     "execution_count": 8,
     "metadata": {},
     "output_type": "execute_result"
    }
   ],
   "source": [
    "x = star3[traditional]\n",
    "bestfeatures = SelectKBest(score_func=f_regression,k=9)\n",
    "fit = bestfeatures.fit(x,y)\n",
    "dfscores = pd.DataFrame(fit.scores_)\n",
    "dfcolumns = pd.DataFrame(x.columns)\n",
    "featureScores = pd.concat([dfcolumns,dfscores],axis=1)\n",
    "featureScores.columns = ['Features','Score'] \n",
    "#print(featureScores.nlargest(9,'Score'))\n",
    "featureScores.nlargest(9,'Score')"
   ]
  },
  {
   "cell_type": "code",
   "execution_count": 9,
   "id": "822dcd85",
   "metadata": {},
   "outputs": [
    {
     "name": "stdout",
     "output_type": "stream",
     "text": [
      "Optimization terminated successfully.\n",
      "         Current function value: 0.229128\n",
      "         Iterations 8\n"
     ]
    },
    {
     "name": "stderr",
     "output_type": "stream",
     "text": [
      "C:\\Users\\Zachary\\Anaconda3\\lib\\site-packages\\pandas\\core\\frame.py:4308: SettingWithCopyWarning: \n",
      "A value is trying to be set on a copy of a slice from a DataFrame\n",
      "\n",
      "See the caveats in the documentation: https://pandas.pydata.org/pandas-docs/stable/user_guide/indexing.html#returning-a-view-versus-a-copy\n",
      "  return super().drop(\n"
     ]
    },
    {
     "data": {
      "text/html": [
       "<table class=\"simpletable\">\n",
       "<caption>Logit Regression Results</caption>\n",
       "<tr>\n",
       "  <th>Dep. Variable:</th>       <td>ASstarter</td>    <th>  No. Observations:  </th>  <td>  2852</td>  \n",
       "</tr>\n",
       "<tr>\n",
       "  <th>Model:</th>                 <td>Logit</td>      <th>  Df Residuals:      </th>  <td>  2843</td>  \n",
       "</tr>\n",
       "<tr>\n",
       "  <th>Method:</th>                 <td>MLE</td>       <th>  Df Model:          </th>  <td>     8</td>  \n",
       "</tr>\n",
       "<tr>\n",
       "  <th>Date:</th>            <td>Fri, 10 Dec 2021</td> <th>  Pseudo R-squ.:     </th>  <td>0.2629</td>  \n",
       "</tr>\n",
       "<tr>\n",
       "  <th>Time:</th>                <td>13:47:40</td>     <th>  Log-Likelihood:    </th> <td> -653.47</td> \n",
       "</tr>\n",
       "<tr>\n",
       "  <th>converged:</th>             <td>True</td>       <th>  LL-Null:           </th> <td> -886.49</td> \n",
       "</tr>\n",
       "<tr>\n",
       "  <th>Covariance Type:</th>     <td>nonrobust</td>    <th>  LLR p-value:       </th> <td>1.353e-95</td>\n",
       "</tr>\n",
       "</table>\n",
       "<table class=\"simpletable\">\n",
       "<tr>\n",
       "    <td></td>       <th>coef</th>     <th>std err</th>      <th>z</th>      <th>P>|z|</th>  <th>[0.025</th>    <th>0.975]</th>  \n",
       "</tr>\n",
       "<tr>\n",
       "  <th>const</th> <td>  -15.2985</td> <td>    1.084</td> <td>  -14.110</td> <td> 0.000</td> <td>  -17.424</td> <td>  -13.173</td>\n",
       "</tr>\n",
       "<tr>\n",
       "  <th>HR</th>    <td>    0.0831</td> <td>    0.025</td> <td>    3.331</td> <td> 0.001</td> <td>    0.034</td> <td>    0.132</td>\n",
       "</tr>\n",
       "<tr>\n",
       "  <th>R</th>     <td>    0.0132</td> <td>    0.006</td> <td>    2.043</td> <td> 0.041</td> <td>    0.001</td> <td>    0.026</td>\n",
       "</tr>\n",
       "<tr>\n",
       "  <th>RBI</th>   <td>    0.0080</td> <td>    0.006</td> <td>    1.285</td> <td> 0.199</td> <td>   -0.004</td> <td>    0.020</td>\n",
       "</tr>\n",
       "<tr>\n",
       "  <th>SB</th>    <td>    0.0103</td> <td>    0.008</td> <td>    1.325</td> <td> 0.185</td> <td>   -0.005</td> <td>    0.026</td>\n",
       "</tr>\n",
       "<tr>\n",
       "  <th>BB%</th>   <td>   -9.5365</td> <td>    9.946</td> <td>   -0.959</td> <td> 0.338</td> <td>  -29.030</td> <td>    9.957</td>\n",
       "</tr>\n",
       "<tr>\n",
       "  <th>AVG</th>   <td>   21.7076</td> <td>   13.226</td> <td>    1.641</td> <td> 0.101</td> <td>   -4.215</td> <td>   47.630</td>\n",
       "</tr>\n",
       "<tr>\n",
       "  <th>OBP</th>   <td>   20.6879</td> <td>   13.973</td> <td>    1.481</td> <td> 0.139</td> <td>   -6.698</td> <td>   48.074</td>\n",
       "</tr>\n",
       "<tr>\n",
       "  <th>SLG</th>   <td>   -7.3239</td> <td>    3.953</td> <td>   -1.853</td> <td> 0.064</td> <td>  -15.072</td> <td>    0.425</td>\n",
       "</tr>\n",
       "</table>"
      ],
      "text/plain": [
       "<class 'statsmodels.iolib.summary.Summary'>\n",
       "\"\"\"\n",
       "                           Logit Regression Results                           \n",
       "==============================================================================\n",
       "Dep. Variable:              ASstarter   No. Observations:                 2852\n",
       "Model:                          Logit   Df Residuals:                     2843\n",
       "Method:                           MLE   Df Model:                            8\n",
       "Date:                Fri, 10 Dec 2021   Pseudo R-squ.:                  0.2629\n",
       "Time:                        13:47:40   Log-Likelihood:                -653.47\n",
       "converged:                       True   LL-Null:                       -886.49\n",
       "Covariance Type:            nonrobust   LLR p-value:                 1.353e-95\n",
       "==============================================================================\n",
       "                 coef    std err          z      P>|z|      [0.025      0.975]\n",
       "------------------------------------------------------------------------------\n",
       "const        -15.2985      1.084    -14.110      0.000     -17.424     -13.173\n",
       "HR             0.0831      0.025      3.331      0.001       0.034       0.132\n",
       "R              0.0132      0.006      2.043      0.041       0.001       0.026\n",
       "RBI            0.0080      0.006      1.285      0.199      -0.004       0.020\n",
       "SB             0.0103      0.008      1.325      0.185      -0.005       0.026\n",
       "BB%           -9.5365      9.946     -0.959      0.338     -29.030       9.957\n",
       "AVG           21.7076     13.226      1.641      0.101      -4.215      47.630\n",
       "OBP           20.6879     13.973      1.481      0.139      -6.698      48.074\n",
       "SLG           -7.3239      3.953     -1.853      0.064     -15.072       0.425\n",
       "==============================================================================\n",
       "\"\"\""
      ]
     },
     "execution_count": 9,
     "metadata": {},
     "output_type": "execute_result"
    }
   ],
   "source": [
    "x = star3[traditional]\n",
    "x.drop(columns=['K%'], inplace=True)\n",
    "xtrain, xtest, ytrain, ytest = train_test_split(x, y, test_size=0.25, random_state = 1)\n",
    "trainStars = sm.Logit(ytrain, sm.add_constant(xtrain), method='kwargs').fit()\n",
    "trainStars.summary()"
   ]
  },
  {
   "cell_type": "code",
   "execution_count": 10,
   "id": "a553a4c7",
   "metadata": {},
   "outputs": [
    {
     "data": {
      "text/plain": [
       "<AxesSubplot:>"
      ]
     },
     "execution_count": 10,
     "metadata": {},
     "output_type": "execute_result"
    },
    {
     "data": {
      "image/png": "[encoded data removed]",
      "text/plain": [
       "<Figure size 432x288 with 1 Axes>"
      ]
     },
     "metadata": {},
     "output_type": "display_data"
    }
   ],
   "source": [
    "trainPred = trainStars.predict(sm.add_constant(xtrain))\n",
    "trainPred = round(trainPred)\n",
    "sns.heatmap(confusion_matrix(ytrain, trainPred), annot=True, cbar=False, fmt='n', cmap='Purples')"
   ]
  },
  {
   "cell_type": "code",
   "execution_count": 11,
   "id": "5c18aeaf",
   "metadata": {},
   "outputs": [
    {
     "name": "stdout",
     "output_type": "stream",
     "text": [
      "Training accuracy:  0.9140953716690042\n"
     ]
    }
   ],
   "source": [
    "print(\"Training accuracy: \", metrics.accuracy_score(ytrain, trainPred))"
   ]
  },
  {
   "cell_type": "code",
   "execution_count": 12,
   "id": "a575d64b",
   "metadata": {},
   "outputs": [
    {
     "data": {
      "text/plain": [
       "<AxesSubplot:>"
      ]
     },
     "execution_count": 12,
     "metadata": {},
     "output_type": "execute_result"
    },
    {
     "data": {
      "image/png": "[encoded data removed]",
      "text/plain": [
       "<Figure size 432x288 with 1 Axes>"
      ]
     },
     "metadata": {},
     "output_type": "display_data"
    }
   ],
   "source": [
    "testPred = trainStars.predict(sm.add_constant(xtest))\n",
    "testPred = round(testPred)\n",
    "sns.heatmap(confusion_matrix(ytest, testPred), annot=True, cbar=False, fmt='n', cmap='Dark2_r')"
   ]
  },
  {
   "cell_type": "code",
   "execution_count": 13,
   "id": "6a46f17f",
   "metadata": {},
   "outputs": [
    {
     "name": "stdout",
     "output_type": "stream",
     "text": [
      "Testing accuracy:  0.9158780231335436\n"
     ]
    }
   ],
   "source": [
    "print(\"Testing accuracy: \", metrics.accuracy_score(ytest, testPred))"
   ]
  },
  {
   "cell_type": "code",
   "execution_count": 14,
   "id": "c6fbc317",
   "metadata": {},
   "outputs": [
    {
     "data": {
      "image/png": "[encoded data removed]",
      "text/plain": [
       "<Figure size 432x288 with 1 Axes>"
      ]
     },
     "metadata": {},
     "output_type": "display_data"
    }
   ],
   "source": [
    "logfprtrain, logtprtrain, thresholds = roc_curve(ytrain, trainStars.predict(sm.add_constant(xtrain)))\n",
    "logfprtest, logtprtest, thresholds = roc_curve(ytest, trainStars.predict(sm.add_constant(xtest)))\n",
    "plt.figure()\n",
    "plt.plot(logfprtrain, logtprtrain, color='blue')\n",
    "plt.plot(logfprtest, logtprtest, color='red')\n",
    "plt.plot([0, 1], [0, 1],'r--')\n",
    "plt.xlabel('False Positive Rate')\n",
    "plt.ylabel('True Positive Rate')\n",
    "plt.title('Logistic Receiver operating characteristic ROC')\n",
    "plt.show()"
   ]
  },
  {
   "cell_type": "code",
   "execution_count": 15,
   "id": "f3d00c2f",
   "metadata": {},
   "outputs": [
    {
     "data": {
      "text/plain": [
       "0.8512347959634596"
      ]
     },
     "execution_count": 15,
     "metadata": {},
     "output_type": "execute_result"
    }
   ],
   "source": [
    "training_roc_auc = roc_auc_score(ytrain, trainStars.predict(sm.add_constant(xtrain)))\n",
    "training_roc_auc"
   ]
  },
  {
   "cell_type": "code",
   "execution_count": 16,
   "id": "ed25df9d",
   "metadata": {},
   "outputs": [
    {
     "data": {
      "text/plain": [
       "0.8317101237755762"
      ]
     },
     "execution_count": 16,
     "metadata": {},
     "output_type": "execute_result"
    }
   ],
   "source": [
    "testing_roc_auc = roc_auc_score(ytest, trainStars.predict(sm.add_constant(xtest)))\n",
    "testing_roc_auc"
   ]
  },
  {
   "cell_type": "markdown",
   "id": "b9d5f642",
   "metadata": {},
   "source": [
    "# Advanced model findings"
   ]
  },
  {
   "cell_type": "code",
   "execution_count": 17,
   "id": "e1e0dcfd",
   "metadata": {},
   "outputs": [],
   "source": [
    "advanced_stat = star3[advanced]\n",
    "advanced_stat = advanced_stat.rename(columns={'wRC+':'wRCplus'})"
   ]
  },
  {
   "cell_type": "markdown",
   "id": "eb99f8af",
   "metadata": {},
   "source": [
    "I first used the k best method to get the 5 most significant advanced variables and verified that with a correlation matrix"
   ]
  },
  {
   "cell_type": "code",
   "execution_count": 18,
   "id": "0fedec94",
   "metadata": {},
   "outputs": [
    {
     "name": "stdout",
     "output_type": "stream",
     "text": [
      "    Features         Score\n",
      "8  ASstarter  3.423636e+18\n",
      "5        Off  6.931081e+02\n",
      "7        WAR  6.745816e+02\n",
      "3       wRC+  6.144093e+02\n",
      "2       wOBA  5.734859e+02\n"
     ]
    }
   ],
   "source": [
    "from sklearn.feature_selection import SelectKBest\n",
    "from sklearn.feature_selection import chi2, f_regression\n",
    "X = star3[advanced]\n",
    "y=star3.ASstarter\n",
    "bestfeatures = SelectKBest(score_func=f_regression,k=8)\n",
    "fit = bestfeatures.fit(X,y.values.ravel())\n",
    "dfscores = pd.DataFrame(fit.scores_)\n",
    "dfcolumns = pd.DataFrame(X.columns)\n",
    "featureScores = pd.concat([dfcolumns,dfscores],axis=1)\n",
    "featureScores.columns = ['Features','Score']  #naming the dataframe columns\n",
    "print(featureScores.nlargest(5,'Score'))  #print 5 best features"
   ]
  },
  {
   "cell_type": "code",
   "execution_count": 19,
   "id": "85135b97",
   "metadata": {},
   "outputs": [
    {
     "data": {
      "text/html": [
       "<div>\n",
       "<style scoped>\n",
       "    .dataframe tbody tr th:only-of-type {\n",
       "        vertical-align: middle;\n",
       "    }\n",
       "\n",
       "    .dataframe tbody tr th {\n",
       "        vertical-align: top;\n",
       "    }\n",
       "\n",
       "    .dataframe thead th {\n",
       "        text-align: right;\n",
       "    }\n",
       "</style>\n",
       "<table border=\"1\" class=\"dataframe\">\n",
       "  <thead>\n",
       "    <tr style=\"text-align: right;\">\n",
       "      <th></th>\n",
       "      <th>ISO</th>\n",
       "      <th>BABIP</th>\n",
       "      <th>wOBA</th>\n",
       "      <th>wRCplus</th>\n",
       "      <th>BsR</th>\n",
       "      <th>Off</th>\n",
       "      <th>Def</th>\n",
       "      <th>WAR</th>\n",
       "      <th>ASstarter</th>\n",
       "    </tr>\n",
       "  </thead>\n",
       "  <tbody>\n",
       "    <tr>\n",
       "      <th>ISO</th>\n",
       "      <td>1.000000</td>\n",
       "      <td>0.022899</td>\n",
       "      <td>0.773597</td>\n",
       "      <td>0.759371</td>\n",
       "      <td>-0.100545</td>\n",
       "      <td>0.727987</td>\n",
       "      <td>-0.267592</td>\n",
       "      <td>0.523365</td>\n",
       "      <td>0.276995</td>\n",
       "    </tr>\n",
       "    <tr>\n",
       "      <th>BABIP</th>\n",
       "      <td>0.022899</td>\n",
       "      <td>1.000000</td>\n",
       "      <td>0.472831</td>\n",
       "      <td>0.466660</td>\n",
       "      <td>0.173152</td>\n",
       "      <td>0.478327</td>\n",
       "      <td>-0.016776</td>\n",
       "      <td>0.438430</td>\n",
       "      <td>0.187383</td>\n",
       "    </tr>\n",
       "    <tr>\n",
       "      <th>wOBA</th>\n",
       "      <td>0.773597</td>\n",
       "      <td>0.472831</td>\n",
       "      <td>1.000000</td>\n",
       "      <td>0.958416</td>\n",
       "      <td>-0.021233</td>\n",
       "      <td>0.935447</td>\n",
       "      <td>-0.228569</td>\n",
       "      <td>0.745343</td>\n",
       "      <td>0.362074</td>\n",
       "    </tr>\n",
       "    <tr>\n",
       "      <th>wRCplus</th>\n",
       "      <td>0.759371</td>\n",
       "      <td>0.466660</td>\n",
       "      <td>0.958416</td>\n",
       "      <td>1.000000</td>\n",
       "      <td>-0.024910</td>\n",
       "      <td>0.968056</td>\n",
       "      <td>-0.236345</td>\n",
       "      <td>0.775760</td>\n",
       "      <td>0.373030</td>\n",
       "    </tr>\n",
       "    <tr>\n",
       "      <th>BsR</th>\n",
       "      <td>-0.100545</td>\n",
       "      <td>0.173152</td>\n",
       "      <td>-0.021233</td>\n",
       "      <td>-0.024910</td>\n",
       "      <td>1.000000</td>\n",
       "      <td>0.181111</td>\n",
       "      <td>0.189918</td>\n",
       "      <td>0.287366</td>\n",
       "      <td>0.042496</td>\n",
       "    </tr>\n",
       "    <tr>\n",
       "      <th>Off</th>\n",
       "      <td>0.727987</td>\n",
       "      <td>0.478327</td>\n",
       "      <td>0.935447</td>\n",
       "      <td>0.968056</td>\n",
       "      <td>0.181111</td>\n",
       "      <td>1.000000</td>\n",
       "      <td>-0.191486</td>\n",
       "      <td>0.834668</td>\n",
       "      <td>0.392716</td>\n",
       "    </tr>\n",
       "    <tr>\n",
       "      <th>Def</th>\n",
       "      <td>-0.267592</td>\n",
       "      <td>-0.016776</td>\n",
       "      <td>-0.228569</td>\n",
       "      <td>-0.236345</td>\n",
       "      <td>0.189918</td>\n",
       "      <td>-0.191486</td>\n",
       "      <td>1.000000</td>\n",
       "      <td>0.365927</td>\n",
       "      <td>0.019331</td>\n",
       "    </tr>\n",
       "    <tr>\n",
       "      <th>WAR</th>\n",
       "      <td>0.523365</td>\n",
       "      <td>0.438430</td>\n",
       "      <td>0.745343</td>\n",
       "      <td>0.775760</td>\n",
       "      <td>0.287366</td>\n",
       "      <td>0.834668</td>\n",
       "      <td>0.365927</td>\n",
       "      <td>1.000000</td>\n",
       "      <td>0.388233</td>\n",
       "    </tr>\n",
       "    <tr>\n",
       "      <th>ASstarter</th>\n",
       "      <td>0.276995</td>\n",
       "      <td>0.187383</td>\n",
       "      <td>0.362074</td>\n",
       "      <td>0.373030</td>\n",
       "      <td>0.042496</td>\n",
       "      <td>0.392716</td>\n",
       "      <td>0.019331</td>\n",
       "      <td>0.388233</td>\n",
       "      <td>1.000000</td>\n",
       "    </tr>\n",
       "  </tbody>\n",
       "</table>\n",
       "</div>"
      ],
      "text/plain": [
       "                ISO     BABIP      wOBA   wRCplus       BsR       Off  \\\n",
       "ISO        1.000000  0.022899  0.773597  0.759371 -0.100545  0.727987   \n",
       "BABIP      0.022899  1.000000  0.472831  0.466660  0.173152  0.478327   \n",
       "wOBA       0.773597  0.472831  1.000000  0.958416 -0.021233  0.935447   \n",
       "wRCplus    0.759371  0.466660  0.958416  1.000000 -0.024910  0.968056   \n",
       "BsR       -0.100545  0.173152 -0.021233 -0.024910  1.000000  0.181111   \n",
       "Off        0.727987  0.478327  0.935447  0.968056  0.181111  1.000000   \n",
       "Def       -0.267592 -0.016776 -0.228569 -0.236345  0.189918 -0.191486   \n",
       "WAR        0.523365  0.438430  0.745343  0.775760  0.287366  0.834668   \n",
       "ASstarter  0.276995  0.187383  0.362074  0.373030  0.042496  0.392716   \n",
       "\n",
       "                Def       WAR  ASstarter  \n",
       "ISO       -0.267592  0.523365   0.276995  \n",
       "BABIP     -0.016776  0.438430   0.187383  \n",
       "wOBA      -0.228569  0.745343   0.362074  \n",
       "wRCplus   -0.236345  0.775760   0.373030  \n",
       "BsR        0.189918  0.287366   0.042496  \n",
       "Off       -0.191486  0.834668   0.392716  \n",
       "Def        1.000000  0.365927   0.019331  \n",
       "WAR        0.365927  1.000000   0.388233  \n",
       "ASstarter  0.019331  0.388233   1.000000  "
      ]
     },
     "execution_count": 19,
     "metadata": {},
     "output_type": "execute_result"
    }
   ],
   "source": [
    "advanced_stat.corr()"
   ]
  },
  {
   "cell_type": "markdown",
   "id": "77aed2d0",
   "metadata": {},
   "source": [
    "## Split training / testing"
   ]
  },
  {
   "cell_type": "code",
   "execution_count": 20,
   "id": "8236e71a",
   "metadata": {},
   "outputs": [
    {
     "name": "stdout",
     "output_type": "stream",
     "text": [
      "Optimization terminated successfully.\n",
      "         Current function value: 0.225579\n",
      "         Iterations 8\n",
      "                           Logit Regression Results                           \n",
      "==============================================================================\n",
      "Dep. Variable:              ASstarter   No. Observations:                 2852\n",
      "Model:                          Logit   Df Residuals:                     2846\n",
      "Method:                           MLE   Df Model:                            5\n",
      "Date:                Fri, 10 Dec 2021   Pseudo R-squ.:                  0.2490\n",
      "Time:                        13:47:41   Log-Likelihood:                -643.35\n",
      "converged:                       True   LL-Null:                       -856.62\n",
      "Covariance Type:            nonrobust   LLR p-value:                 5.629e-90\n",
      "==============================================================================\n",
      "                 coef    std err          z      P>|z|      [0.025      0.975]\n",
      "------------------------------------------------------------------------------\n",
      "const         -8.7185      1.959     -4.451      0.000     -12.558      -4.879\n",
      "ISO           -0.2809      1.966     -0.143      0.886      -4.133       3.572\n",
      "wOBA           3.0591      6.959      0.440      0.660     -10.580      16.699\n",
      "wRCplus        0.0332      0.013      2.514      0.012       0.007       0.059\n",
      "Off           -0.0096      0.017     -0.582      0.560      -0.042       0.023\n",
      "WAR            0.4028      0.064      6.283      0.000       0.277       0.528\n",
      "==============================================================================\n"
     ]
    }
   ],
   "source": [
    "x = advanced_stat[[\"ISO\",\"wOBA\",\"wRCplus\",\"Off\",\"WAR\"]]\n",
    "y = advanced_stat.ASstarter\n",
    "xtrain, xtest, ytrain, ytest = train_test_split(x,y,test_size = .25, random_state = 5)\n",
    "final = sm.Logit(ytrain, sm.add_constant(xtrain)).fit()\n",
    "print(final.summary())"
   ]
  },
  {
   "cell_type": "code",
   "execution_count": 21,
   "id": "980ec2a3",
   "metadata": {},
   "outputs": [
    {
     "name": "stdout",
     "output_type": "stream",
     "text": [
      "Optimization terminated successfully.\n",
      "         Current function value: 0.225582\n",
      "         Iterations 8\n",
      "                           Logit Regression Results                           \n",
      "==============================================================================\n",
      "Dep. Variable:              ASstarter   No. Observations:                 2852\n",
      "Model:                          Logit   Df Residuals:                     2847\n",
      "Method:                           MLE   Df Model:                            4\n",
      "Date:                Fri, 10 Dec 2021   Pseudo R-squ.:                  0.2490\n",
      "Time:                        13:47:41   Log-Likelihood:                -643.36\n",
      "converged:                       True   LL-Null:                       -856.62\n",
      "Covariance Type:            nonrobust   LLR p-value:                 5.164e-91\n",
      "==============================================================================\n",
      "                 coef    std err          z      P>|z|      [0.025      0.975]\n",
      "------------------------------------------------------------------------------\n",
      "const         -8.6562      1.910     -4.532      0.000     -12.400      -4.913\n",
      "wOBA           2.7621      6.643      0.416      0.678     -10.258      15.782\n",
      "wRCplus        0.0331      0.013      2.509      0.012       0.007       0.059\n",
      "Off           -0.0098      0.017     -0.592      0.554      -0.042       0.023\n",
      "WAR            0.4042      0.063      6.383      0.000       0.280       0.528\n",
      "==============================================================================\n"
     ]
    }
   ],
   "source": [
    "x = advanced_stat[[\"wOBA\",\"wRCplus\",\"Off\",\"WAR\"]]\n",
    "y = advanced_stat.ASstarter\n",
    "xtrain, xtest, ytrain, ytest = train_test_split(x,y,test_size = .25, random_state = 5)\n",
    "final = sm.Logit(ytrain, sm.add_constant(xtrain)).fit()\n",
    "print(final.summary())"
   ]
  },
  {
   "cell_type": "markdown",
   "id": "86dc9894",
   "metadata": {},
   "source": [
    "## Remove high p-valued variables"
   ]
  },
  {
   "cell_type": "code",
   "execution_count": 22,
   "id": "197ab870",
   "metadata": {},
   "outputs": [
    {
     "name": "stdout",
     "output_type": "stream",
     "text": [
      "Optimization terminated successfully.\n",
      "         Current function value: 0.225613\n",
      "         Iterations 8\n",
      "                           Logit Regression Results                           \n",
      "==============================================================================\n",
      "Dep. Variable:              ASstarter   No. Observations:                 2852\n",
      "Model:                          Logit   Df Residuals:                     2848\n",
      "Method:                           MLE   Df Model:                            3\n",
      "Date:                Fri, 10 Dec 2021   Pseudo R-squ.:                  0.2489\n",
      "Time:                        13:47:41   Log-Likelihood:                -643.45\n",
      "converged:                       True   LL-Null:                       -856.62\n",
      "Covariance Type:            nonrobust   LLR p-value:                 4.339e-92\n",
      "==============================================================================\n",
      "                 coef    std err          z      P>|z|      [0.025      0.975]\n",
      "------------------------------------------------------------------------------\n",
      "const         -8.0339      1.183     -6.788      0.000     -10.353      -5.714\n",
      "wRCplus        0.0360      0.011      3.238      0.001       0.014       0.058\n",
      "Off           -0.0078      0.016     -0.494      0.621      -0.039       0.023\n",
      "WAR            0.4003      0.063      6.388      0.000       0.277       0.523\n",
      "==============================================================================\n"
     ]
    }
   ],
   "source": [
    "x = advanced_stat[[\"wRCplus\",\"Off\",\"WAR\"]]\n",
    "y = advanced_stat.ASstarter\n",
    "xtrain, xtest, ytrain, ytest = train_test_split(x,y,test_size = .25, random_state = 5)\n",
    "final = sm.Logit(ytrain, sm.add_constant(xtrain)).fit()\n",
    "print(final.summary())"
   ]
  },
  {
   "cell_type": "markdown",
   "id": "0c608071",
   "metadata": {},
   "source": [
    "## Final Model"
   ]
  },
  {
   "cell_type": "code",
   "execution_count": 23,
   "id": "ce367a1d",
   "metadata": {},
   "outputs": [
    {
     "name": "stdout",
     "output_type": "stream",
     "text": [
      "Optimization terminated successfully.\n",
      "         Current function value: 0.225655\n",
      "         Iterations 8\n",
      "                           Logit Regression Results                           \n",
      "==============================================================================\n",
      "Dep. Variable:              ASstarter   No. Observations:                 2852\n",
      "Model:                          Logit   Df Residuals:                     2849\n",
      "Method:                           MLE   Df Model:                            2\n",
      "Date:                Fri, 10 Dec 2021   Pseudo R-squ.:                  0.2487\n",
      "Time:                        13:47:41   Log-Likelihood:                -643.57\n",
      "converged:                       True   LL-Null:                       -856.62\n",
      "Covariance Type:            nonrobust   LLR p-value:                 2.968e-93\n",
      "==============================================================================\n",
      "                 coef    std err          z      P>|z|      [0.025      0.975]\n",
      "------------------------------------------------------------------------------\n",
      "const         -7.5025      0.491    -15.284      0.000      -8.465      -6.540\n",
      "wRCplus        0.0310      0.005      6.538      0.000       0.022       0.040\n",
      "WAR            0.3835      0.053      7.283      0.000       0.280       0.487\n",
      "==============================================================================\n"
     ]
    }
   ],
   "source": [
    "x = advanced_stat[[\"wRCplus\",\"WAR\"]]\n",
    "y = advanced_stat.ASstarter\n",
    "xtrain, xtest, ytrain, ytest = train_test_split(x,y,test_size = .25, random_state = 5)\n",
    "final = sm.Logit(ytrain, sm.add_constant(xtrain)).fit()\n",
    "print(final.summary())"
   ]
  },
  {
   "cell_type": "markdown",
   "id": "18559eb2",
   "metadata": {},
   "source": [
    "## Confusion Matrix (Training)"
   ]
  },
  {
   "cell_type": "code",
   "execution_count": 24,
   "id": "7e0e2aff",
   "metadata": {
    "scrolled": false
   },
   "outputs": [
    {
     "name": "stdout",
     "output_type": "stream",
     "text": [
      "Accuracy: 0.9169004207573632\n"
     ]
    },
    {
     "data": {
      "image/png": "[encoded data removed]",
      "text/plain": [
       "<Figure size 432x288 with 2 Axes>"
      ]
     },
     "metadata": {},
     "output_type": "display_data"
    }
   ],
   "source": [
    "ytrainpred = round(final.predict(sm.add_constant(xtrain)))\n",
    "CMtrain = confusion_matrix(ytrain,ytrainpred)\n",
    "sns.heatmap(CMtrain, annot=True, fmt=\"1\")\n",
    "print(\"Accuracy:\", metrics.accuracy_score(ytrain,ytrainpred))"
   ]
  },
  {
   "cell_type": "markdown",
   "id": "8aeae5ef",
   "metadata": {},
   "source": [
    "## Confusion Matrix (Testing)"
   ]
  },
  {
   "cell_type": "code",
   "execution_count": 25,
   "id": "d975136c",
   "metadata": {},
   "outputs": [
    {
     "name": "stdout",
     "output_type": "stream",
     "text": [
      "Accuracy: 0.9169295478443743\n"
     ]
    },
    {
     "data": {
      "image/png": "[encoded data removed]",
      "text/plain": [
       "<Figure size 432x288 with 2 Axes>"
      ]
     },
     "metadata": {},
     "output_type": "display_data"
    }
   ],
   "source": [
    "ytestpred = round(final.predict(sm.add_constant(xtest)))\n",
    "CMtest = confusion_matrix(ytest,ytestpred)\n",
    "sns.heatmap(CMtest, annot=True, fmt=\"1\")\n",
    "print(\"Accuracy:\", metrics.accuracy_score(ytest,ytestpred))"
   ]
  },
  {
   "cell_type": "markdown",
   "id": "e6901272",
   "metadata": {},
   "source": [
    "After using the k-best method and then reducing the non-signifianct variables, I was able to get the advanced variables down to two. WAR and WRC+ which are both very commonly used in the MLB. WAR is an overall stat, which takes into account pretty much every part of the game. wRC+ is a more offensive stat that is standardized to pkaying conditions such as era or location. Taking away the majority of the other advanced variables didn't hurt the overall accuracy, so these using only these two ensures that we are not overfitting a model."
   ]
  },
  {
   "cell_type": "markdown",
   "id": "7d833d9c",
   "metadata": {},
   "source": [
    "## ROC Curve"
   ]
  },
  {
   "cell_type": "code",
   "execution_count": 26,
   "id": "88985417",
   "metadata": {},
   "outputs": [
    {
     "data": {
      "image/png": "[encoded data removed]",
      "text/plain": [
       "<Figure size 432x288 with 1 Axes>"
      ]
     },
     "metadata": {},
     "output_type": "display_data"
    }
   ],
   "source": [
    "fpr, tpr, thresholds = roc_curve(ytrain, final.predict(sm.add_constant(xtrain)))\n",
    "logit_roc_auc = metrics.auc(fpr,tpr)\n",
    "plt.figure()\n",
    "plt.plot(fpr, tpr, label='Logistic Regression (area = %0.2f)' % logit_roc_auc)\n",
    "plt.plot([0, 1], [0, 1],'r--')\n",
    "plt.xlabel('False Positive Rate')\n",
    "plt.ylabel('True Positive Rate')\n",
    "plt.title('Training Receiver operating characteristic ROC')\n",
    "plt.show()"
   ]
  },
  {
   "cell_type": "markdown",
   "id": "2fd2e4ac",
   "metadata": {},
   "source": [
    "# All Stats"
   ]
  },
  {
   "cell_type": "code",
   "execution_count": 27,
   "id": "e3d80963",
   "metadata": {},
   "outputs": [
    {
     "name": "stdout",
     "output_type": "stream",
     "text": [
      "   Features       Score\n",
      "14      Off  693.108095\n",
      "16      WAR  674.581646\n",
      "12     wRC+  614.409295\n",
      "11     wOBA  573.485948\n",
      "8       SLG  540.708224\n",
      "7       OBP  458.366828\n"
     ]
    }
   ],
   "source": [
    "X=star3[allStats]\n",
    "bestfeatures = SelectKBest(score_func=f_regression,k=4)\n",
    "fit = bestfeatures.fit(X,y)\n",
    "dfscores = pd.DataFrame(fit.scores_)\n",
    "dfcolumns = pd.DataFrame(X.columns)\n",
    "featureScores = pd.concat([dfcolumns,dfscores],axis=1)\n",
    "featureScores.columns = ['Features','Score']\n",
    "print(featureScores.nlargest(6,'Score'))"
   ]
  },
  {
   "cell_type": "code",
   "execution_count": 28,
   "id": "5e0a73f5",
   "metadata": {},
   "outputs": [],
   "source": [
    "x=star3[[\"Off\",\"WAR\",\"wRC+\",\"wOBA\",\"SLG\",\"OBP\"]]\n",
    "xtrain1, xtest1, ytrain1, ytest1 = train_test_split(x, y, test_size=0.25, random_state = 6)"
   ]
  },
  {
   "cell_type": "code",
   "execution_count": 29,
   "id": "f3bdfb21",
   "metadata": {},
   "outputs": [
    {
     "name": "stdout",
     "output_type": "stream",
     "text": [
      "Optimization terminated successfully.\n",
      "         Current function value: 0.229663\n",
      "         Iterations 8\n",
      "                           Logit Regression Results                           \n",
      "==============================================================================\n",
      "Dep. Variable:              ASstarter   No. Observations:                 2852\n",
      "Model:                          Logit   Df Residuals:                     2845\n",
      "Method:                           MLE   Df Model:                            6\n",
      "Date:                Fri, 10 Dec 2021   Pseudo R-squ.:                  0.2630\n",
      "Time:                        13:47:42   Log-Likelihood:                -655.00\n",
      "converged:                       True   LL-Null:                       -888.76\n",
      "Covariance Type:            nonrobust   LLR p-value:                 8.309e-98\n",
      "==============================================================================\n",
      "                 coef    std err          z      P>|z|      [0.025      0.975]\n",
      "------------------------------------------------------------------------------\n",
      "const         -6.2792      1.968     -3.191      0.001     -10.136      -2.422\n",
      "Off           -0.0055      0.017     -0.330      0.742      -0.038       0.027\n",
      "WAR            0.4309      0.065      6.648      0.000       0.304       0.558\n",
      "wRC+           0.0279      0.013      2.119      0.034       0.002       0.054\n",
      "wOBA         -44.2684     18.621     -2.377      0.017     -80.765      -7.772\n",
      "SLG           15.1415      5.632      2.689      0.007       4.104      26.179\n",
      "OBP           21.6281      9.250      2.338      0.019       3.499      39.757\n",
      "==============================================================================\n"
     ]
    }
   ],
   "source": [
    "logitTrain = sm.Logit(ytrain1, sm.add_constant(xtrain1), method = 'kwargs').fit()\n",
    "print(logitTrain.summary())"
   ]
  },
  {
   "cell_type": "markdown",
   "id": "92d8f6b9",
   "metadata": {},
   "source": [
    "I am going to remove Off since its p-value is very large"
   ]
  },
  {
   "cell_type": "code",
   "execution_count": 30,
   "id": "f97a5852",
   "metadata": {},
   "outputs": [],
   "source": [
    "x=star3[[\"WAR\",\"wRC+\",\"wOBA\",\"SLG\",\"OBP\"]]\n",
    "xtrain1, xtest1, ytrain1, ytest1 = train_test_split(x, y, test_size=0.25, random_state = 6)"
   ]
  },
  {
   "cell_type": "code",
   "execution_count": 31,
   "id": "3a479506",
   "metadata": {},
   "outputs": [
    {
     "name": "stdout",
     "output_type": "stream",
     "text": [
      "Optimization terminated successfully.\n",
      "         Current function value: 0.229682\n",
      "         Iterations 8\n",
      "                           Logit Regression Results                           \n",
      "==============================================================================\n",
      "Dep. Variable:              ASstarter   No. Observations:                 2852\n",
      "Model:                          Logit   Df Residuals:                     2846\n",
      "Method:                           MLE   Df Model:                            5\n",
      "Date:                Fri, 10 Dec 2021   Pseudo R-squ.:                  0.2630\n",
      "Time:                        13:47:42   Log-Likelihood:                -655.05\n",
      "converged:                       True   LL-Null:                       -888.76\n",
      "Covariance Type:            nonrobust   LLR p-value:                 8.611e-99\n",
      "==============================================================================\n",
      "                 coef    std err          z      P>|z|      [0.025      0.975]\n",
      "------------------------------------------------------------------------------\n",
      "const         -5.8076      1.349     -4.304      0.000      -8.453      -3.163\n",
      "WAR            0.4186      0.053      7.891      0.000       0.315       0.523\n",
      "wRC+           0.0254      0.011      2.358      0.018       0.004       0.047\n",
      "wOBA         -44.3081     18.628     -2.379      0.017     -80.819      -7.797\n",
      "SLG           14.9805      5.612      2.669      0.008       3.981      25.980\n",
      "OBP           21.2818      9.195      2.314      0.021       3.260      39.304\n",
      "==============================================================================\n"
     ]
    }
   ],
   "source": [
    "logitTrain2 = sm.Logit(ytrain1, sm.add_constant(xtrain1), method = 'kwargs').fit()\n",
    "print(logitTrain2.summary())"
   ]
  },
  {
   "cell_type": "code",
   "execution_count": 32,
   "id": "72eb8598",
   "metadata": {},
   "outputs": [
    {
     "name": "stdout",
     "output_type": "stream",
     "text": [
      "Accuracy test Logistic regression of all stats: 0.9263932702418507\n",
      "Accuracy train Logistic regression of all stats: 0.9137447405329593\n"
     ]
    }
   ],
   "source": [
    "ypredTestAll = round(logitTrain2.predict(sm.add_constant(xtest1)))\n",
    "print(\"Accuracy test Logistic regression of all stats:\",metrics.accuracy_score(ytest1, ypredTestAll))\n",
    "ypredTrainAll = round(logitTrain2.predict(sm.add_constant(xtrain1)))\n",
    "print(\"Accuracy train Logistic regression of all stats:\",metrics.accuracy_score(ytrain1, ypredTrainAll))"
   ]
  },
  {
   "cell_type": "code",
   "execution_count": 33,
   "id": "7ee8808d",
   "metadata": {},
   "outputs": [
    {
     "data": {
      "image/png": "[encoded data removed]",
      "text/plain": [
       "<Figure size 432x288 with 2 Axes>"
      ]
     },
     "metadata": {},
     "output_type": "display_data"
    }
   ],
   "source": [
    "conf= metrics.confusion_matrix(ytrain1, ypredTrainAll)\n",
    "sns.heatmap(conf, annot=True, fmt=\".3f\", square = True);\n",
    "plt.ylabel('Actual');\n",
    "plt.xlabel('Predicted');\n",
    "plt.title('Training Data Confusion Matrix Logistic Regression Using All stats');"
   ]
  },
  {
   "cell_type": "code",
   "execution_count": 34,
   "id": "f631c634",
   "metadata": {},
   "outputs": [
    {
     "data": {
      "image/png": "[encoded data removed]",
      "text/plain": [
       "<Figure size 432x288 with 2 Axes>"
      ]
     },
     "metadata": {},
     "output_type": "display_data"
    }
   ],
   "source": [
    "conf= metrics.confusion_matrix(ytest1, ypredTestAll)\n",
    "sns.heatmap(conf, annot=True, fmt=\".3f\", square = True);\n",
    "plt.ylabel('Actual');\n",
    "plt.xlabel('Predicted');\n",
    "plt.title('Testing Data Confusion Matrix Logistic Regression Using All stats');"
   ]
  },
  {
   "cell_type": "code",
   "execution_count": 35,
   "id": "b4e9983d",
   "metadata": {},
   "outputs": [
    {
     "data": {
      "image/png": "[encoded data removed]",
      "text/plain": [
       "<Figure size 432x288 with 1 Axes>"
      ]
     },
     "metadata": {},
     "output_type": "display_data"
    }
   ],
   "source": [
    "fpr, tpr, thresholds = metrics.roc_curve(ytrain1, logitTrain2.predict(sm.add_constant(xtrain1)))\n",
    "plt.figure()\n",
    "plt.plot(fpr, tpr, label='Logistic Regression (area = %0.2f)')\n",
    "plt.plot([0, 1], [0, 1],'r--')\n",
    "plt.xlabel('False Positive Rate')\n",
    "plt.ylabel('True Positive Rate')\n",
    "plt.title('Training Receiver operating characteristic ROC')\n",
    "plt.show()"
   ]
  },
  {
   "cell_type": "code",
   "execution_count": null,
   "id": "2dedffeb",
   "metadata": {},
   "outputs": [],
   "source": []
  }
 ],
 "metadata": {
  "kernelspec": {
   "display_name": "Python 3",
   "language": "python",
   "name": "python3"
  },
  "language_info": {
   "codemirror_mode": {
    "name": "ipython",
    "version": 3
   },
   "file_extension": ".py",
   "mimetype": "text/x-python",
   "name": "python",
   "nbconvert_exporter": "python",
   "pygments_lexer": "ipython3",
   "version": "3.8.8"
  }
 },
 "nbformat": 4,
 "nbformat_minor": 5
}
