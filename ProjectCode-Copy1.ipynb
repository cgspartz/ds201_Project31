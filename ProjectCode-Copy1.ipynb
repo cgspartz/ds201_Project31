{
 "cells": [
  {
   "cell_type": "markdown",
   "id": "56fe0009",
   "metadata": {},
   "source": [
    "## Predicting All Stars Based of a Full Year of Baseball\n",
    "Team Members: Chris Spartz, Kevin Gnaster, Zach Josten <br />\n",
    "Team Number: 31"
   ]
  },
  {
   "cell_type": "code",
   "execution_count": 9,
   "id": "65ed5e00",
   "metadata": {},
   "outputs": [],
   "source": [
    "import numpy as np\n",
    "import numpy.matlib\n",
    "import pandas as pd\n",
    "import matplotlib.pyplot as plt\n",
    "from sklearn import preprocessing\n",
    "import scipy.stats as st\n",
    "import matplotlib.colors as colors\n",
    "%matplotlib inline\n",
    "from sklearn.cluster import KMeans\n",
    "import seaborn as sns; sns.set()\n",
    "from sklearn.metrics import roc_auc_score, roc_curve\n",
    "from sklearn import metrics\n",
    "from sklearn.metrics import confusion_matrix\n",
    "from sklearn.model_selection import train_test_split\n",
    "from sklearn.linear_model import LogisticRegression\n",
    "import statsmodels.formula.api as smf\n",
    "import statsmodels.api as sm\n",
    "import math\n",
    "from sklearn.feature_selection import SelectKBest\n",
    "from sklearn.feature_selection import chi2, f_regression"
   ]
  },
  {
   "cell_type": "code",
   "execution_count": 2,
   "id": "e972ae88",
   "metadata": {
    "scrolled": true
   },
   "outputs": [
    {
     "data": {
      "text/html": [
       "<div>\n",
       "<style scoped>\n",
       "    .dataframe tbody tr th:only-of-type {\n",
       "        vertical-align: middle;\n",
       "    }\n",
       "\n",
       "    .dataframe tbody tr th {\n",
       "        vertical-align: top;\n",
       "    }\n",
       "\n",
       "    .dataframe thead th {\n",
       "        text-align: right;\n",
       "    }\n",
       "</style>\n",
       "<table border=\"1\" class=\"dataframe\">\n",
       "  <thead>\n",
       "    <tr style=\"text-align: right;\">\n",
       "      <th></th>\n",
       "      <th>Season</th>\n",
       "      <th>YearName</th>\n",
       "      <th>Name</th>\n",
       "      <th>Team</th>\n",
       "      <th>G</th>\n",
       "      <th>PA</th>\n",
       "      <th>HR</th>\n",
       "      <th>R</th>\n",
       "      <th>RBI</th>\n",
       "      <th>SB</th>\n",
       "      <th>...</th>\n",
       "      <th>OBP</th>\n",
       "      <th>SLG</th>\n",
       "      <th>wOBA</th>\n",
       "      <th>wRC+</th>\n",
       "      <th>BsR</th>\n",
       "      <th>Off</th>\n",
       "      <th>Def</th>\n",
       "      <th>WAR</th>\n",
       "      <th>playerid</th>\n",
       "      <th>ASstarter</th>\n",
       "    </tr>\n",
       "  </thead>\n",
       "  <tbody>\n",
       "    <tr>\n",
       "      <th>0</th>\n",
       "      <td>2019</td>\n",
       "      <td>2019Mike Trout</td>\n",
       "      <td>Mike Trout</td>\n",
       "      <td>LAA</td>\n",
       "      <td>134</td>\n",
       "      <td>600</td>\n",
       "      <td>45</td>\n",
       "      <td>110</td>\n",
       "      <td>104</td>\n",
       "      <td>11</td>\n",
       "      <td>...</td>\n",
       "      <td>0.438</td>\n",
       "      <td>0.645</td>\n",
       "      <td>0.436</td>\n",
       "      <td>177.0</td>\n",
       "      <td>7.1</td>\n",
       "      <td>65.9</td>\n",
       "      <td>-0.3</td>\n",
       "      <td>8.4</td>\n",
       "      <td>10155</td>\n",
       "      <td>1</td>\n",
       "    </tr>\n",
       "    <tr>\n",
       "      <th>1</th>\n",
       "      <td>2019</td>\n",
       "      <td>2019Alex Bregman</td>\n",
       "      <td>Alex Bregman</td>\n",
       "      <td>HOU</td>\n",
       "      <td>156</td>\n",
       "      <td>690</td>\n",
       "      <td>41</td>\n",
       "      <td>122</td>\n",
       "      <td>112</td>\n",
       "      <td>5</td>\n",
       "      <td>...</td>\n",
       "      <td>0.423</td>\n",
       "      <td>0.592</td>\n",
       "      <td>0.418</td>\n",
       "      <td>167.0</td>\n",
       "      <td>-2.1</td>\n",
       "      <td>57.3</td>\n",
       "      <td>4.8</td>\n",
       "      <td>8.4</td>\n",
       "      <td>17678</td>\n",
       "      <td>1</td>\n",
       "    </tr>\n",
       "    <tr>\n",
       "      <th>2</th>\n",
       "      <td>2019</td>\n",
       "      <td>2019Christian Yelich</td>\n",
       "      <td>Christian Yelich</td>\n",
       "      <td>MIL</td>\n",
       "      <td>130</td>\n",
       "      <td>580</td>\n",
       "      <td>44</td>\n",
       "      <td>100</td>\n",
       "      <td>97</td>\n",
       "      <td>30</td>\n",
       "      <td>...</td>\n",
       "      <td>0.429</td>\n",
       "      <td>0.671</td>\n",
       "      <td>0.442</td>\n",
       "      <td>174.0</td>\n",
       "      <td>8.5</td>\n",
       "      <td>65.2</td>\n",
       "      <td>-3.9</td>\n",
       "      <td>7.8</td>\n",
       "      <td>11477</td>\n",
       "      <td>1</td>\n",
       "    </tr>\n",
       "    <tr>\n",
       "      <th>3</th>\n",
       "      <td>2019</td>\n",
       "      <td>2019Cody Bellinger</td>\n",
       "      <td>Cody Bellinger</td>\n",
       "      <td>LAD</td>\n",
       "      <td>156</td>\n",
       "      <td>660</td>\n",
       "      <td>47</td>\n",
       "      <td>121</td>\n",
       "      <td>115</td>\n",
       "      <td>15</td>\n",
       "      <td>...</td>\n",
       "      <td>0.406</td>\n",
       "      <td>0.629</td>\n",
       "      <td>0.415</td>\n",
       "      <td>161.0</td>\n",
       "      <td>1.4</td>\n",
       "      <td>54.2</td>\n",
       "      <td>3.4</td>\n",
       "      <td>7.7</td>\n",
       "      <td>15998</td>\n",
       "      <td>1</td>\n",
       "    </tr>\n",
       "    <tr>\n",
       "      <th>4</th>\n",
       "      <td>2019</td>\n",
       "      <td>2019Marcus Semien</td>\n",
       "      <td>Marcus Semien</td>\n",
       "      <td>OAK</td>\n",
       "      <td>162</td>\n",
       "      <td>747</td>\n",
       "      <td>33</td>\n",
       "      <td>123</td>\n",
       "      <td>92</td>\n",
       "      <td>10</td>\n",
       "      <td>...</td>\n",
       "      <td>0.369</td>\n",
       "      <td>0.522</td>\n",
       "      <td>0.373</td>\n",
       "      <td>138.0</td>\n",
       "      <td>1.7</td>\n",
       "      <td>37.7</td>\n",
       "      <td>14.1</td>\n",
       "      <td>7.6</td>\n",
       "      <td>12533</td>\n",
       "      <td>0</td>\n",
       "    </tr>\n",
       "  </tbody>\n",
       "</table>\n",
       "<p>5 rows × 25 columns</p>\n",
       "</div>"
      ],
      "text/plain": [
       "   Season              YearName              Name Team    G   PA  HR    R  \\\n",
       "0    2019        2019Mike Trout        Mike Trout  LAA  134  600  45  110   \n",
       "1    2019      2019Alex Bregman      Alex Bregman  HOU  156  690  41  122   \n",
       "2    2019  2019Christian Yelich  Christian Yelich  MIL  130  580  44  100   \n",
       "3    2019    2019Cody Bellinger    Cody Bellinger  LAD  156  660  47  121   \n",
       "4    2019     2019Marcus Semien     Marcus Semien  OAK  162  747  33  123   \n",
       "\n",
       "   RBI  SB  ...    OBP    SLG   wOBA   wRC+  BsR   Off   Def  WAR  playerid  \\\n",
       "0  104  11  ...  0.438  0.645  0.436  177.0  7.1  65.9  -0.3  8.4     10155   \n",
       "1  112   5  ...  0.423  0.592  0.418  167.0 -2.1  57.3   4.8  8.4     17678   \n",
       "2   97  30  ...  0.429  0.671  0.442  174.0  8.5  65.2  -3.9  7.8     11477   \n",
       "3  115  15  ...  0.406  0.629  0.415  161.0  1.4  54.2   3.4  7.7     15998   \n",
       "4   92  10  ...  0.369  0.522  0.373  138.0  1.7  37.7  14.1  7.6     12533   \n",
       "\n",
       "   ASstarter  \n",
       "0          1  \n",
       "1          1  \n",
       "2          1  \n",
       "3          1  \n",
       "4          0  \n",
       "\n",
       "[5 rows x 25 columns]"
      ]
     },
     "execution_count": 2,
     "metadata": {},
     "output_type": "execute_result"
    }
   ],
   "source": [
    "star = pd.read_excel(\"FinalDatasetMLBallStar 11.25.21.xlsx\")\n",
    "star.drop(columns=['xwOBA'], inplace=True)\n",
    "star=star.rename(columns={'All Star Starter?':'ASstarter'})\n",
    "star.head(5)"
   ]
  },
  {
   "cell_type": "code",
   "execution_count": 3,
   "id": "6b2cce52",
   "metadata": {},
   "outputs": [],
   "source": [
    "star2 = star.dropna(how='any',axis=0).copy()"
   ]
  },
  {
   "cell_type": "code",
   "execution_count": 4,
   "id": "174f9989",
   "metadata": {},
   "outputs": [
    {
     "data": {
      "text/plain": [
       "(20161, 25)"
      ]
     },
     "execution_count": 4,
     "metadata": {},
     "output_type": "execute_result"
    }
   ],
   "source": [
    "star2.shape"
   ]
  },
  {
   "cell_type": "code",
   "execution_count": 5,
   "id": "4bbf0455",
   "metadata": {
    "scrolled": true
   },
   "outputs": [
    {
     "data": {
      "text/html": [
       "<div>\n",
       "<style scoped>\n",
       "    .dataframe tbody tr th:only-of-type {\n",
       "        vertical-align: middle;\n",
       "    }\n",
       "\n",
       "    .dataframe tbody tr th {\n",
       "        vertical-align: top;\n",
       "    }\n",
       "\n",
       "    .dataframe thead th {\n",
       "        text-align: right;\n",
       "    }\n",
       "</style>\n",
       "<table border=\"1\" class=\"dataframe\">\n",
       "  <thead>\n",
       "    <tr style=\"text-align: right;\">\n",
       "      <th></th>\n",
       "      <th>ASstarter</th>\n",
       "    </tr>\n",
       "  </thead>\n",
       "  <tbody>\n",
       "    <tr>\n",
       "      <th>ASstarter</th>\n",
       "      <td>1.000000</td>\n",
       "    </tr>\n",
       "    <tr>\n",
       "      <th>WAR</th>\n",
       "      <td>0.413208</td>\n",
       "    </tr>\n",
       "    <tr>\n",
       "      <th>Off</th>\n",
       "      <td>0.402159</td>\n",
       "    </tr>\n",
       "    <tr>\n",
       "      <th>HR</th>\n",
       "      <td>0.352875</td>\n",
       "    </tr>\n",
       "    <tr>\n",
       "      <th>RBI</th>\n",
       "      <td>0.328526</td>\n",
       "    </tr>\n",
       "    <tr>\n",
       "      <th>R</th>\n",
       "      <td>0.319117</td>\n",
       "    </tr>\n",
       "    <tr>\n",
       "      <th>PA</th>\n",
       "      <td>0.264179</td>\n",
       "    </tr>\n",
       "    <tr>\n",
       "      <th>G</th>\n",
       "      <td>0.226927</td>\n",
       "    </tr>\n",
       "    <tr>\n",
       "      <th>SB</th>\n",
       "      <td>0.166729</td>\n",
       "    </tr>\n",
       "    <tr>\n",
       "      <th>ISO</th>\n",
       "      <td>0.153212</td>\n",
       "    </tr>\n",
       "    <tr>\n",
       "      <th>SLG</th>\n",
       "      <td>0.146887</td>\n",
       "    </tr>\n",
       "    <tr>\n",
       "      <th>wRC+</th>\n",
       "      <td>0.129601</td>\n",
       "    </tr>\n",
       "    <tr>\n",
       "      <th>wOBA</th>\n",
       "      <td>0.127734</td>\n",
       "    </tr>\n",
       "    <tr>\n",
       "      <th>OBP</th>\n",
       "      <td>0.112059</td>\n",
       "    </tr>\n",
       "    <tr>\n",
       "      <th>AVG</th>\n",
       "      <td>0.105985</td>\n",
       "    </tr>\n",
       "    <tr>\n",
       "      <th>BB%</th>\n",
       "      <td>0.073941</td>\n",
       "    </tr>\n",
       "    <tr>\n",
       "      <th>BABIP</th>\n",
       "      <td>0.063696</td>\n",
       "    </tr>\n",
       "    <tr>\n",
       "      <th>BsR</th>\n",
       "      <td>0.048647</td>\n",
       "    </tr>\n",
       "    <tr>\n",
       "      <th>Season</th>\n",
       "      <td>0.003286</td>\n",
       "    </tr>\n",
       "    <tr>\n",
       "      <th>Def</th>\n",
       "      <td>-0.016528</td>\n",
       "    </tr>\n",
       "    <tr>\n",
       "      <th>K%</th>\n",
       "      <td>-0.069844</td>\n",
       "    </tr>\n",
       "  </tbody>\n",
       "</table>\n",
       "</div>"
      ],
      "text/plain": [
       "           ASstarter\n",
       "ASstarter   1.000000\n",
       "WAR         0.413208\n",
       "Off         0.402159\n",
       "HR          0.352875\n",
       "RBI         0.328526\n",
       "R           0.319117\n",
       "PA          0.264179\n",
       "G           0.226927\n",
       "SB          0.166729\n",
       "ISO         0.153212\n",
       "SLG         0.146887\n",
       "wRC+        0.129601\n",
       "wOBA        0.127734\n",
       "OBP         0.112059\n",
       "AVG         0.105985\n",
       "BB%         0.073941\n",
       "BABIP       0.063696\n",
       "BsR         0.048647\n",
       "Season      0.003286\n",
       "Def        -0.016528\n",
       "K%         -0.069844"
      ]
     },
     "execution_count": 5,
     "metadata": {},
     "output_type": "execute_result"
    }
   ],
   "source": [
    "star2.drop(columns=['playerid'], inplace=True)\n",
    "starCorr=star2.corr()\n",
    "starCorr.iloc[:,-1:].sort_values(by='ASstarter', ascending=False)"
   ]
  },
  {
   "cell_type": "code",
   "execution_count": 6,
   "id": "eebbfcf8",
   "metadata": {},
   "outputs": [
    {
     "data": {
      "text/plain": [
       "(3803, 25)"
      ]
     },
     "execution_count": 6,
     "metadata": {},
     "output_type": "execute_result"
    }
   ],
   "source": [
    "star3 = star2.loc[star2['PA'] >= 450].reset_index()\n",
    "star3.shape"
   ]
  },
  {
   "cell_type": "code",
   "execution_count": 379,
   "id": "a2919084",
   "metadata": {},
   "outputs": [],
   "source": [
    "traditional=[\"HR\",\"R\",\"RBI\",\"SB\",\"BB%\",\"K%\",\"AVG\",\"OBP\",\"SLG\"]\n",
    "advanced=[\"ISO\",\"BABIP\",\"wOBA\",\"wRC+\",\"BsR\",\"Off\",\"Def\",\"WAR\"]\n",
    "allStats=[\"HR\",\"R\",\"RBI\",\"SB\",\"BB%\",\"K%\",\"AVG\",\"OBP\",\"SLG\",\"ISO\",\"BABIP\",\"wOBA\",\"wRC+\",\"BsR\",\"Off\",\"Def\",\"WAR\"]\n",
    "y=star3.ASstarter\n",
    "#Training testing split is 75-25"
   ]
  },
  {
   "cell_type": "code",
   "execution_count": 531,
   "id": "707479b5",
   "metadata": {},
   "outputs": [
    {
     "data": {
      "text/html": [
       "<div>\n",
       "<style scoped>\n",
       "    .dataframe tbody tr th:only-of-type {\n",
       "        vertical-align: middle;\n",
       "    }\n",
       "\n",
       "    .dataframe tbody tr th {\n",
       "        vertical-align: top;\n",
       "    }\n",
       "\n",
       "    .dataframe thead th {\n",
       "        text-align: right;\n",
       "    }\n",
       "</style>\n",
       "<table border=\"1\" class=\"dataframe\">\n",
       "  <thead>\n",
       "    <tr style=\"text-align: right;\">\n",
       "      <th></th>\n",
       "      <th>Features</th>\n",
       "      <th>Score</th>\n",
       "    </tr>\n",
       "  </thead>\n",
       "  <tbody>\n",
       "    <tr>\n",
       "      <th>8</th>\n",
       "      <td>SLG</td>\n",
       "      <td>540.708224</td>\n",
       "    </tr>\n",
       "    <tr>\n",
       "      <th>7</th>\n",
       "      <td>OBP</td>\n",
       "      <td>458.366828</td>\n",
       "    </tr>\n",
       "    <tr>\n",
       "      <th>1</th>\n",
       "      <td>R</td>\n",
       "      <td>434.043321</td>\n",
       "    </tr>\n",
       "    <tr>\n",
       "      <th>2</th>\n",
       "      <td>RBI</td>\n",
       "      <td>400.765602</td>\n",
       "    </tr>\n",
       "    <tr>\n",
       "      <th>6</th>\n",
       "      <td>AVG</td>\n",
       "      <td>392.610457</td>\n",
       "    </tr>\n",
       "    <tr>\n",
       "      <th>0</th>\n",
       "      <td>HR</td>\n",
       "      <td>361.761635</td>\n",
       "    </tr>\n",
       "    <tr>\n",
       "      <th>4</th>\n",
       "      <td>BB%</td>\n",
       "      <td>119.048751</td>\n",
       "    </tr>\n",
       "    <tr>\n",
       "      <th>5</th>\n",
       "      <td>K%</td>\n",
       "      <td>7.207973</td>\n",
       "    </tr>\n",
       "    <tr>\n",
       "      <th>3</th>\n",
       "      <td>SB</td>\n",
       "      <td>6.137440</td>\n",
       "    </tr>\n",
       "  </tbody>\n",
       "</table>\n",
       "</div>"
      ],
      "text/plain": [
       "  Features       Score\n",
       "8      SLG  540.708224\n",
       "7      OBP  458.366828\n",
       "1        R  434.043321\n",
       "2      RBI  400.765602\n",
       "6      AVG  392.610457\n",
       "0       HR  361.761635\n",
       "4      BB%  119.048751\n",
       "5       K%    7.207973\n",
       "3       SB    6.137440"
      ]
     },
     "execution_count": 531,
     "metadata": {},
     "output_type": "execute_result"
    }
   ],
   "source": [
    "bestfeatures = SelectKBest(score_func=f_regression,k=9)\n",
    "fit = bestfeatures.fit(x,y)\n",
    "dfscores = pd.DataFrame(fit.scores_)\n",
    "dfcolumns = pd.DataFrame(x.columns)\n",
    "featureScores = pd.concat([dfcolumns,dfscores],axis=1)\n",
    "featureScores.columns = ['Features','Score'] \n",
    "#print(featureScores.nlargest(9,'Score'))\n",
    "featureScores.nlargest(9,'Score')"
   ]
  },
  {
   "cell_type": "code",
   "execution_count": 532,
   "id": "822dcd85",
   "metadata": {},
   "outputs": [
    {
     "name": "stdout",
     "output_type": "stream",
     "text": [
      "Optimization terminated successfully.\n",
      "         Current function value: 0.229128\n",
      "         Iterations 8\n"
     ]
    },
    {
     "name": "stderr",
     "output_type": "stream",
     "text": [
      "C:\\Users\\Zachary\\Anaconda3\\lib\\site-packages\\pandas\\core\\frame.py:4308: SettingWithCopyWarning: \n",
      "A value is trying to be set on a copy of a slice from a DataFrame\n",
      "\n",
      "See the caveats in the documentation: https://pandas.pydata.org/pandas-docs/stable/user_guide/indexing.html#returning-a-view-versus-a-copy\n",
      "  return super().drop(\n"
     ]
    },
    {
     "data": {
      "text/html": [
       "<table class=\"simpletable\">\n",
       "<caption>Logit Regression Results</caption>\n",
       "<tr>\n",
       "  <th>Dep. Variable:</th>       <td>ASstarter</td>    <th>  No. Observations:  </th>  <td>  2852</td>  \n",
       "</tr>\n",
       "<tr>\n",
       "  <th>Model:</th>                 <td>Logit</td>      <th>  Df Residuals:      </th>  <td>  2843</td>  \n",
       "</tr>\n",
       "<tr>\n",
       "  <th>Method:</th>                 <td>MLE</td>       <th>  Df Model:          </th>  <td>     8</td>  \n",
       "</tr>\n",
       "<tr>\n",
       "  <th>Date:</th>            <td>Wed, 08 Dec 2021</td> <th>  Pseudo R-squ.:     </th>  <td>0.2629</td>  \n",
       "</tr>\n",
       "<tr>\n",
       "  <th>Time:</th>                <td>14:22:27</td>     <th>  Log-Likelihood:    </th> <td> -653.47</td> \n",
       "</tr>\n",
       "<tr>\n",
       "  <th>converged:</th>             <td>True</td>       <th>  LL-Null:           </th> <td> -886.49</td> \n",
       "</tr>\n",
       "<tr>\n",
       "  <th>Covariance Type:</th>     <td>nonrobust</td>    <th>  LLR p-value:       </th> <td>1.353e-95</td>\n",
       "</tr>\n",
       "</table>\n",
       "<table class=\"simpletable\">\n",
       "<tr>\n",
       "    <td></td>       <th>coef</th>     <th>std err</th>      <th>z</th>      <th>P>|z|</th>  <th>[0.025</th>    <th>0.975]</th>  \n",
       "</tr>\n",
       "<tr>\n",
       "  <th>const</th> <td>  -15.2985</td> <td>    1.084</td> <td>  -14.110</td> <td> 0.000</td> <td>  -17.424</td> <td>  -13.173</td>\n",
       "</tr>\n",
       "<tr>\n",
       "  <th>HR</th>    <td>    0.0831</td> <td>    0.025</td> <td>    3.331</td> <td> 0.001</td> <td>    0.034</td> <td>    0.132</td>\n",
       "</tr>\n",
       "<tr>\n",
       "  <th>R</th>     <td>    0.0132</td> <td>    0.006</td> <td>    2.043</td> <td> 0.041</td> <td>    0.001</td> <td>    0.026</td>\n",
       "</tr>\n",
       "<tr>\n",
       "  <th>RBI</th>   <td>    0.0080</td> <td>    0.006</td> <td>    1.285</td> <td> 0.199</td> <td>   -0.004</td> <td>    0.020</td>\n",
       "</tr>\n",
       "<tr>\n",
       "  <th>SB</th>    <td>    0.0103</td> <td>    0.008</td> <td>    1.325</td> <td> 0.185</td> <td>   -0.005</td> <td>    0.026</td>\n",
       "</tr>\n",
       "<tr>\n",
       "  <th>BB%</th>   <td>   -9.5365</td> <td>    9.946</td> <td>   -0.959</td> <td> 0.338</td> <td>  -29.030</td> <td>    9.957</td>\n",
       "</tr>\n",
       "<tr>\n",
       "  <th>AVG</th>   <td>   21.7076</td> <td>   13.226</td> <td>    1.641</td> <td> 0.101</td> <td>   -4.215</td> <td>   47.630</td>\n",
       "</tr>\n",
       "<tr>\n",
       "  <th>OBP</th>   <td>   20.6879</td> <td>   13.973</td> <td>    1.481</td> <td> 0.139</td> <td>   -6.698</td> <td>   48.074</td>\n",
       "</tr>\n",
       "<tr>\n",
       "  <th>SLG</th>   <td>   -7.3239</td> <td>    3.953</td> <td>   -1.853</td> <td> 0.064</td> <td>  -15.072</td> <td>    0.425</td>\n",
       "</tr>\n",
       "</table>"
      ],
      "text/plain": [
       "<class 'statsmodels.iolib.summary.Summary'>\n",
       "\"\"\"\n",
       "                           Logit Regression Results                           \n",
       "==============================================================================\n",
       "Dep. Variable:              ASstarter   No. Observations:                 2852\n",
       "Model:                          Logit   Df Residuals:                     2843\n",
       "Method:                           MLE   Df Model:                            8\n",
       "Date:                Wed, 08 Dec 2021   Pseudo R-squ.:                  0.2629\n",
       "Time:                        14:22:27   Log-Likelihood:                -653.47\n",
       "converged:                       True   LL-Null:                       -886.49\n",
       "Covariance Type:            nonrobust   LLR p-value:                 1.353e-95\n",
       "==============================================================================\n",
       "                 coef    std err          z      P>|z|      [0.025      0.975]\n",
       "------------------------------------------------------------------------------\n",
       "const        -15.2985      1.084    -14.110      0.000     -17.424     -13.173\n",
       "HR             0.0831      0.025      3.331      0.001       0.034       0.132\n",
       "R              0.0132      0.006      2.043      0.041       0.001       0.026\n",
       "RBI            0.0080      0.006      1.285      0.199      -0.004       0.020\n",
       "SB             0.0103      0.008      1.325      0.185      -0.005       0.026\n",
       "BB%           -9.5365      9.946     -0.959      0.338     -29.030       9.957\n",
       "AVG           21.7076     13.226      1.641      0.101      -4.215      47.630\n",
       "OBP           20.6879     13.973      1.481      0.139      -6.698      48.074\n",
       "SLG           -7.3239      3.953     -1.853      0.064     -15.072       0.425\n",
       "==============================================================================\n",
       "\"\"\""
      ]
     },
     "execution_count": 532,
     "metadata": {},
     "output_type": "execute_result"
    }
   ],
   "source": [
    "x = star3[traditional]\n",
    "x.drop(columns=['K%'], inplace=True)\n",
    "xtrain, xtest, ytrain, ytest = train_test_split(x, y, test_size=0.25, random_state = 1)\n",
    "trainStars = sm.Logit(ytrain, sm.add_constant(xtrain), method='kwargs').fit()\n",
    "trainStars.summary()"
   ]
  },
  {
   "cell_type": "code",
   "execution_count": 524,
   "id": "3b5cbc6a",
   "metadata": {},
   "outputs": [
    {
     "data": {
      "text/plain": [
       "<AxesSubplot:>"
      ]
     },
     "execution_count": 524,
     "metadata": {},
     "output_type": "execute_result"
    },
    {
     "data": {
      "image/png": "[encoded data removed]",
      "text/plain": [
       "<Figure size 432x288 with 1 Axes>"
      ]
     },
     "metadata": {},
     "output_type": "display_data"
    }
   ],
   "source": [
    "trainPred = trainStars.predict(sm.add_constant(xtrain))\n",
    "trainPred = round(trainPred)\n",
    "sns.heatmap(confusion_matrix(ytrain, trainPred), annot=True, cbar=False, fmt='n', cmap='Purples')"
   ]
  },
  {
   "cell_type": "code",
   "execution_count": 525,
   "id": "aea882c1",
   "metadata": {},
   "outputs": [
    {
     "name": "stdout",
     "output_type": "stream",
     "text": [
      "Training accuracy:  0.9140953716690042\n"
     ]
    }
   ],
   "source": [
    "print(\"Training accuracy: \", metrics.accuracy_score(ytrain, trainPred))"
   ]
  },
  {
   "cell_type": "code",
   "execution_count": 526,
   "id": "890e28cc",
   "metadata": {},
   "outputs": [
    {
     "data": {
      "text/plain": [
       "<AxesSubplot:>"
      ]
     },
     "execution_count": 526,
     "metadata": {},
     "output_type": "execute_result"
    },
    {
     "data": {
      "image/png": "[encoded data removed]",
      "text/plain": [
       "<Figure size 432x288 with 1 Axes>"
      ]
     },
     "metadata": {},
     "output_type": "display_data"
    }
   ],
   "source": [
    "testPred = trainStars.predict(sm.add_constant(xtest))\n",
    "testPred = round(testPred)\n",
    "sns.heatmap(confusion_matrix(ytest, testPred), annot=True, cbar=False, fmt='n', cmap='Dark2_r')"
   ]
  },
  {
   "cell_type": "code",
   "execution_count": 507,
   "id": "7a7ce7cc",
   "metadata": {},
   "outputs": [
    {
     "name": "stdout",
     "output_type": "stream",
     "text": [
      "Testing accuracy:  0.9158780231335436\n"
     ]
    }
   ],
   "source": [
    "print(\"Testing accuracy: \", metrics.accuracy_score(ytest, testPred))"
   ]
  },
  {
   "cell_type": "code",
   "execution_count": 508,
   "id": "fedd09fb",
   "metadata": {},
   "outputs": [
    {
     "data": {
      "image/png": "[encoded data removed]",
      "text/plain": [
       "<Figure size 432x288 with 1 Axes>"
      ]
     },
     "metadata": {},
     "output_type": "display_data"
    }
   ],
   "source": [
    "logfprtrain, logtprtrain, thresholds = roc_curve(ytrain, trainStars.predict(sm.add_constant(xtrain)))\n",
    "logfprtest, logtprtest, thresholds = roc_curve(ytest, trainStars.predict(sm.add_constant(xtest)))\n",
    "plt.figure()\n",
    "plt.plot(logfprtrain, logtprtrain, color='blue')\n",
    "plt.plot(logfprtest, logtprtest, color='red')\n",
    "plt.plot([0, 1], [0, 1],'r--')\n",
    "plt.xlabel('False Positive Rate')\n",
    "plt.ylabel('True Positive Rate')\n",
    "plt.title('Logistic Receiver operating characteristic ROC')\n",
    "plt.show()"
   ]
  },
  {
   "cell_type": "code",
   "execution_count": 509,
   "id": "2dae0949",
   "metadata": {},
   "outputs": [
    {
     "data": {
      "text/plain": [
       "0.8512347959634596"
      ]
     },
     "execution_count": 509,
     "metadata": {},
     "output_type": "execute_result"
    }
   ],
   "source": [
    "training_roc_auc = roc_auc_score(ytrain, trainStars.predict(sm.add_constant(xtrain)))\n",
    "training_roc_auc"
   ]
  },
  {
   "cell_type": "code",
   "execution_count": 510,
   "id": "c038a9ca",
   "metadata": {},
   "outputs": [
    {
     "data": {
      "text/plain": [
       "0.8317101237755762"
      ]
     },
     "execution_count": 510,
     "metadata": {},
     "output_type": "execute_result"
    }
   ],
   "source": [
    "testing_roc_auc = roc_auc_score(ytest, trainStars.predict(sm.add_constant(xtest)))\n",
    "testing_roc_auc"
   ]
  },
  {
   "cell_type": "code",
   "execution_count": null,
   "id": "f4a983d8",
   "metadata": {},
   "outputs": [],
   "source": []
  }
 ],
 "metadata": {
  "kernelspec": {
   "display_name": "Python 3",
   "language": "python",
   "name": "python3"
  },
  "language_info": {
   "codemirror_mode": {
    "name": "ipython",
    "version": 3
   },
   "file_extension": ".py",
   "mimetype": "text/x-python",
   "name": "python",
   "nbconvert_exporter": "python",
   "pygments_lexer": "ipython3",
   "version": "3.8.8"
  }
 },
 "nbformat": 4,
 "nbformat_minor": 5
}
