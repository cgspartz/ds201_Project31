{
 "cells": [
  {
   "cell_type": "markdown",
   "id": "56fe0009",
   "metadata": {},
   "source": [
    "## Predicting All Stars Based of a Full Year of Baseball\n",
    "Team Members: Chris Spartz, Kevin Gnaster, Zach Josten <br />\n",
    "Team Number: 31"
   ]
  },
  {
   "cell_type": "code",
   "execution_count": 21,
   "id": "65ed5e00",
   "metadata": {},
   "outputs": [],
   "source": [
    "import numpy as np\n",
    "import numpy.matlib\n",
    "import pandas as pd\n",
    "import matplotlib.pyplot as plt\n",
    "from sklearn import preprocessing\n",
    "import scipy.stats as st\n",
    "import matplotlib.colors as colors\n",
    "%matplotlib inline\n",
    "from sklearn.cluster import KMeans\n",
    "import seaborn as sns; sns.set()\n",
    "from sklearn.metrics import roc_auc_score, roc_curve\n",
    "from sklearn import metrics\n",
    "from sklearn.metrics import confusion_matrix\n",
    "from sklearn.model_selection import train_test_split\n",
    "from sklearn.linear_model import LogisticRegression\n",
    "import statsmodels.formula.api as smf\n",
    "import statsmodels.api as sm\n",
    "import math"
   ]
  },
  {
   "cell_type": "code",
   "execution_count": 22,
   "id": "e972ae88",
   "metadata": {
    "scrolled": true
   },
   "outputs": [
    {
     "data": {
      "text/html": [
       "<div>\n",
       "<style scoped>\n",
       "    .dataframe tbody tr th:only-of-type {\n",
       "        vertical-align: middle;\n",
       "    }\n",
       "\n",
       "    .dataframe tbody tr th {\n",
       "        vertical-align: top;\n",
       "    }\n",
       "\n",
       "    .dataframe thead th {\n",
       "        text-align: right;\n",
       "    }\n",
       "</style>\n",
       "<table border=\"1\" class=\"dataframe\">\n",
       "  <thead>\n",
       "    <tr style=\"text-align: right;\">\n",
       "      <th></th>\n",
       "      <th>Season</th>\n",
       "      <th>YearName</th>\n",
       "      <th>Name</th>\n",
       "      <th>Team</th>\n",
       "      <th>G</th>\n",
       "      <th>PA</th>\n",
       "      <th>HR</th>\n",
       "      <th>R</th>\n",
       "      <th>RBI</th>\n",
       "      <th>SB</th>\n",
       "      <th>...</th>\n",
       "      <th>OBP</th>\n",
       "      <th>SLG</th>\n",
       "      <th>wOBA</th>\n",
       "      <th>wRC+</th>\n",
       "      <th>BsR</th>\n",
       "      <th>Off</th>\n",
       "      <th>Def</th>\n",
       "      <th>WAR</th>\n",
       "      <th>playerid</th>\n",
       "      <th>ASstarter</th>\n",
       "    </tr>\n",
       "  </thead>\n",
       "  <tbody>\n",
       "    <tr>\n",
       "      <th>0</th>\n",
       "      <td>2019</td>\n",
       "      <td>2019Mike Trout</td>\n",
       "      <td>Mike Trout</td>\n",
       "      <td>LAA</td>\n",
       "      <td>134</td>\n",
       "      <td>600</td>\n",
       "      <td>45</td>\n",
       "      <td>110</td>\n",
       "      <td>104</td>\n",
       "      <td>11</td>\n",
       "      <td>...</td>\n",
       "      <td>0.438</td>\n",
       "      <td>0.645</td>\n",
       "      <td>0.436</td>\n",
       "      <td>177.0</td>\n",
       "      <td>7.1</td>\n",
       "      <td>65.9</td>\n",
       "      <td>-0.3</td>\n",
       "      <td>8.4</td>\n",
       "      <td>10155</td>\n",
       "      <td>1</td>\n",
       "    </tr>\n",
       "    <tr>\n",
       "      <th>1</th>\n",
       "      <td>2019</td>\n",
       "      <td>2019Alex Bregman</td>\n",
       "      <td>Alex Bregman</td>\n",
       "      <td>HOU</td>\n",
       "      <td>156</td>\n",
       "      <td>690</td>\n",
       "      <td>41</td>\n",
       "      <td>122</td>\n",
       "      <td>112</td>\n",
       "      <td>5</td>\n",
       "      <td>...</td>\n",
       "      <td>0.423</td>\n",
       "      <td>0.592</td>\n",
       "      <td>0.418</td>\n",
       "      <td>167.0</td>\n",
       "      <td>-2.1</td>\n",
       "      <td>57.3</td>\n",
       "      <td>4.8</td>\n",
       "      <td>8.4</td>\n",
       "      <td>17678</td>\n",
       "      <td>1</td>\n",
       "    </tr>\n",
       "    <tr>\n",
       "      <th>2</th>\n",
       "      <td>2019</td>\n",
       "      <td>2019Christian Yelich</td>\n",
       "      <td>Christian Yelich</td>\n",
       "      <td>MIL</td>\n",
       "      <td>130</td>\n",
       "      <td>580</td>\n",
       "      <td>44</td>\n",
       "      <td>100</td>\n",
       "      <td>97</td>\n",
       "      <td>30</td>\n",
       "      <td>...</td>\n",
       "      <td>0.429</td>\n",
       "      <td>0.671</td>\n",
       "      <td>0.442</td>\n",
       "      <td>174.0</td>\n",
       "      <td>8.5</td>\n",
       "      <td>65.2</td>\n",
       "      <td>-3.9</td>\n",
       "      <td>7.8</td>\n",
       "      <td>11477</td>\n",
       "      <td>1</td>\n",
       "    </tr>\n",
       "    <tr>\n",
       "      <th>3</th>\n",
       "      <td>2019</td>\n",
       "      <td>2019Cody Bellinger</td>\n",
       "      <td>Cody Bellinger</td>\n",
       "      <td>LAD</td>\n",
       "      <td>156</td>\n",
       "      <td>660</td>\n",
       "      <td>47</td>\n",
       "      <td>121</td>\n",
       "      <td>115</td>\n",
       "      <td>15</td>\n",
       "      <td>...</td>\n",
       "      <td>0.406</td>\n",
       "      <td>0.629</td>\n",
       "      <td>0.415</td>\n",
       "      <td>161.0</td>\n",
       "      <td>1.4</td>\n",
       "      <td>54.2</td>\n",
       "      <td>3.4</td>\n",
       "      <td>7.7</td>\n",
       "      <td>15998</td>\n",
       "      <td>1</td>\n",
       "    </tr>\n",
       "    <tr>\n",
       "      <th>4</th>\n",
       "      <td>2019</td>\n",
       "      <td>2019Marcus Semien</td>\n",
       "      <td>Marcus Semien</td>\n",
       "      <td>OAK</td>\n",
       "      <td>162</td>\n",
       "      <td>747</td>\n",
       "      <td>33</td>\n",
       "      <td>123</td>\n",
       "      <td>92</td>\n",
       "      <td>10</td>\n",
       "      <td>...</td>\n",
       "      <td>0.369</td>\n",
       "      <td>0.522</td>\n",
       "      <td>0.373</td>\n",
       "      <td>138.0</td>\n",
       "      <td>1.7</td>\n",
       "      <td>37.7</td>\n",
       "      <td>14.1</td>\n",
       "      <td>7.6</td>\n",
       "      <td>12533</td>\n",
       "      <td>0</td>\n",
       "    </tr>\n",
       "  </tbody>\n",
       "</table>\n",
       "<p>5 rows × 25 columns</p>\n",
       "</div>"
      ],
      "text/plain": [
       "   Season              YearName              Name Team    G   PA  HR    R  \\\n",
       "0    2019        2019Mike Trout        Mike Trout  LAA  134  600  45  110   \n",
       "1    2019      2019Alex Bregman      Alex Bregman  HOU  156  690  41  122   \n",
       "2    2019  2019Christian Yelich  Christian Yelich  MIL  130  580  44  100   \n",
       "3    2019    2019Cody Bellinger    Cody Bellinger  LAD  156  660  47  121   \n",
       "4    2019     2019Marcus Semien     Marcus Semien  OAK  162  747  33  123   \n",
       "\n",
       "   RBI  SB  ...    OBP    SLG   wOBA   wRC+  BsR   Off   Def  WAR  playerid  \\\n",
       "0  104  11  ...  0.438  0.645  0.436  177.0  7.1  65.9  -0.3  8.4     10155   \n",
       "1  112   5  ...  0.423  0.592  0.418  167.0 -2.1  57.3   4.8  8.4     17678   \n",
       "2   97  30  ...  0.429  0.671  0.442  174.0  8.5  65.2  -3.9  7.8     11477   \n",
       "3  115  15  ...  0.406  0.629  0.415  161.0  1.4  54.2   3.4  7.7     15998   \n",
       "4   92  10  ...  0.369  0.522  0.373  138.0  1.7  37.7  14.1  7.6     12533   \n",
       "\n",
       "   ASstarter  \n",
       "0          1  \n",
       "1          1  \n",
       "2          1  \n",
       "3          1  \n",
       "4          0  \n",
       "\n",
       "[5 rows x 25 columns]"
      ]
     },
     "execution_count": 22,
     "metadata": {},
     "output_type": "execute_result"
    }
   ],
   "source": [
    "star = pd.read_excel(\"FinalDatasetMLBallStar 11.25.21.xlsx\")\n",
    "star.drop(columns=['xwOBA'], inplace=True)\n",
    "star=star.rename(columns={'All Star Starter?':'ASstarter'})\n",
    "star.head(5)"
   ]
  },
  {
   "cell_type": "code",
   "execution_count": 23,
   "id": "6b2cce52",
   "metadata": {},
   "outputs": [],
   "source": [
    "star2 = star.dropna(how='any',axis=0).copy()"
   ]
  },
  {
   "cell_type": "code",
   "execution_count": 24,
   "id": "174f9989",
   "metadata": {},
   "outputs": [
    {
     "data": {
      "text/plain": [
       "(20161, 25)"
      ]
     },
     "execution_count": 24,
     "metadata": {},
     "output_type": "execute_result"
    }
   ],
   "source": [
    "star2.shape"
   ]
  },
  {
   "cell_type": "code",
   "execution_count": 25,
   "id": "4bbf0455",
   "metadata": {
    "scrolled": true
   },
   "outputs": [
    {
     "data": {
      "text/html": [
       "<div>\n",
       "<style scoped>\n",
       "    .dataframe tbody tr th:only-of-type {\n",
       "        vertical-align: middle;\n",
       "    }\n",
       "\n",
       "    .dataframe tbody tr th {\n",
       "        vertical-align: top;\n",
       "    }\n",
       "\n",
       "    .dataframe thead th {\n",
       "        text-align: right;\n",
       "    }\n",
       "</style>\n",
       "<table border=\"1\" class=\"dataframe\">\n",
       "  <thead>\n",
       "    <tr style=\"text-align: right;\">\n",
       "      <th></th>\n",
       "      <th>ASstarter</th>\n",
       "    </tr>\n",
       "  </thead>\n",
       "  <tbody>\n",
       "    <tr>\n",
       "      <th>ASstarter</th>\n",
       "      <td>1.000000</td>\n",
       "    </tr>\n",
       "    <tr>\n",
       "      <th>WAR</th>\n",
       "      <td>0.413208</td>\n",
       "    </tr>\n",
       "    <tr>\n",
       "      <th>Off</th>\n",
       "      <td>0.402159</td>\n",
       "    </tr>\n",
       "    <tr>\n",
       "      <th>HR</th>\n",
       "      <td>0.352875</td>\n",
       "    </tr>\n",
       "    <tr>\n",
       "      <th>RBI</th>\n",
       "      <td>0.328526</td>\n",
       "    </tr>\n",
       "    <tr>\n",
       "      <th>R</th>\n",
       "      <td>0.319117</td>\n",
       "    </tr>\n",
       "    <tr>\n",
       "      <th>PA</th>\n",
       "      <td>0.264179</td>\n",
       "    </tr>\n",
       "    <tr>\n",
       "      <th>G</th>\n",
       "      <td>0.226927</td>\n",
       "    </tr>\n",
       "    <tr>\n",
       "      <th>SB</th>\n",
       "      <td>0.166729</td>\n",
       "    </tr>\n",
       "    <tr>\n",
       "      <th>ISO</th>\n",
       "      <td>0.153212</td>\n",
       "    </tr>\n",
       "    <tr>\n",
       "      <th>SLG</th>\n",
       "      <td>0.146887</td>\n",
       "    </tr>\n",
       "    <tr>\n",
       "      <th>wRC+</th>\n",
       "      <td>0.129601</td>\n",
       "    </tr>\n",
       "    <tr>\n",
       "      <th>wOBA</th>\n",
       "      <td>0.127734</td>\n",
       "    </tr>\n",
       "    <tr>\n",
       "      <th>OBP</th>\n",
       "      <td>0.112059</td>\n",
       "    </tr>\n",
       "    <tr>\n",
       "      <th>AVG</th>\n",
       "      <td>0.105985</td>\n",
       "    </tr>\n",
       "    <tr>\n",
       "      <th>BB%</th>\n",
       "      <td>0.073941</td>\n",
       "    </tr>\n",
       "    <tr>\n",
       "      <th>BABIP</th>\n",
       "      <td>0.063696</td>\n",
       "    </tr>\n",
       "    <tr>\n",
       "      <th>BsR</th>\n",
       "      <td>0.048647</td>\n",
       "    </tr>\n",
       "    <tr>\n",
       "      <th>Season</th>\n",
       "      <td>0.003286</td>\n",
       "    </tr>\n",
       "    <tr>\n",
       "      <th>Def</th>\n",
       "      <td>-0.016528</td>\n",
       "    </tr>\n",
       "    <tr>\n",
       "      <th>K%</th>\n",
       "      <td>-0.069844</td>\n",
       "    </tr>\n",
       "  </tbody>\n",
       "</table>\n",
       "</div>"
      ],
      "text/plain": [
       "           ASstarter\n",
       "ASstarter   1.000000\n",
       "WAR         0.413208\n",
       "Off         0.402159\n",
       "HR          0.352875\n",
       "RBI         0.328526\n",
       "R           0.319117\n",
       "PA          0.264179\n",
       "G           0.226927\n",
       "SB          0.166729\n",
       "ISO         0.153212\n",
       "SLG         0.146887\n",
       "wRC+        0.129601\n",
       "wOBA        0.127734\n",
       "OBP         0.112059\n",
       "AVG         0.105985\n",
       "BB%         0.073941\n",
       "BABIP       0.063696\n",
       "BsR         0.048647\n",
       "Season      0.003286\n",
       "Def        -0.016528\n",
       "K%         -0.069844"
      ]
     },
     "execution_count": 25,
     "metadata": {},
     "output_type": "execute_result"
    }
   ],
   "source": [
    "star2.drop(columns=['playerid'], inplace=True)\n",
    "starCorr=star2.corr()\n",
    "starCorr.iloc[:,-1:].sort_values(by='ASstarter', ascending=False)"
   ]
  },
  {
   "cell_type": "code",
   "execution_count": 26,
   "id": "eebbfcf8",
   "metadata": {},
   "outputs": [
    {
     "data": {
      "text/plain": [
       "(3803, 25)"
      ]
     },
     "execution_count": 26,
     "metadata": {},
     "output_type": "execute_result"
    }
   ],
   "source": [
    "star3 = star2.loc[star2['PA'] >= 450].reset_index()\n",
    "star3.shape"
   ]
  },
  {
   "cell_type": "code",
   "execution_count": 27,
   "id": "a2919084",
   "metadata": {},
   "outputs": [],
   "source": [
    "traditional=[\"HR\",\"R\",\"RBI\",\"SB\",\"BB%\",\"K%\",\"AVG\",\"OBP\",\"SLG\"]\n",
    "advanced=[\"ISO\",\"BABIP\",\"wOBA\",\"wRC+\",\"BsR\",\"Off\",\"Def\",\"WAR\"]\n",
    "allStats=[\"HR\",\"R\",\"RBI\",\"SB\",\"BB%\",\"K%\",\"AVG\",\"OBP\",\"SLG\",\"ISO\",\"BABIP\",\"wOBA\",\"wRC+\",\"BsR\",\"Off\",\"Def\",\"WAR\"]\n",
    "y=star3.ASstarter\n",
    "#Training testing split is 75-25"
   ]
  },
  {
   "cell_type": "code",
   "execution_count": 28,
   "id": "822dcd85",
   "metadata": {},
   "outputs": [
    {
     "name": "stdout",
     "output_type": "stream",
     "text": [
      "   Features       Score\n",
      "14      Off  693.108095\n",
      "16      WAR  674.581646\n",
      "12     wRC+  614.409295\n",
      "11     wOBA  573.485948\n",
      "8       SLG  540.708224\n",
      "7       OBP  458.366828\n"
     ]
    }
   ],
   "source": [
    "from sklearn.feature_selection import SelectKBest\n",
    "from sklearn.feature_selection import chi2, f_regression\n",
    "X=star3[allStats]\n",
    "bestfeatures = SelectKBest(score_func=f_regression,k=4)\n",
    "fit = bestfeatures.fit(X,y)\n",
    "dfscores = pd.DataFrame(fit.scores_)\n",
    "dfcolumns = pd.DataFrame(X.columns)\n",
    "featureScores = pd.concat([dfcolumns,dfscores],axis=1)\n",
    "featureScores.columns = ['Features','Score']\n",
    "print(featureScores.nlargest(6,'Score'))"
   ]
  },
  {
   "cell_type": "code",
   "execution_count": 29,
   "id": "5e0a73f5",
   "metadata": {},
   "outputs": [],
   "source": [
    "x=star3[[\"Off\",\"WAR\",\"wRC+\",\"wOBA\",\"SLG\",\"OBP\"]]\n",
    "xtrain1, xtest1, ytrain1, ytest1 = train_test_split(x, y, test_size=0.25, random_state = 6)"
   ]
  },
  {
   "cell_type": "code",
   "execution_count": 30,
   "id": "f3bdfb21",
   "metadata": {},
   "outputs": [
    {
     "name": "stdout",
     "output_type": "stream",
     "text": [
      "Optimization terminated successfully.\n",
      "         Current function value: 0.229663\n",
      "         Iterations 8\n",
      "                           Logit Regression Results                           \n",
      "==============================================================================\n",
      "Dep. Variable:              ASstarter   No. Observations:                 2852\n",
      "Model:                          Logit   Df Residuals:                     2845\n",
      "Method:                           MLE   Df Model:                            6\n",
      "Date:                Thu, 09 Dec 2021   Pseudo R-squ.:                  0.2630\n",
      "Time:                        11:07:40   Log-Likelihood:                -655.00\n",
      "converged:                       True   LL-Null:                       -888.76\n",
      "Covariance Type:            nonrobust   LLR p-value:                 8.309e-98\n",
      "==============================================================================\n",
      "                 coef    std err          z      P>|z|      [0.025      0.975]\n",
      "------------------------------------------------------------------------------\n",
      "const         -6.2792      1.968     -3.191      0.001     -10.136      -2.422\n",
      "Off           -0.0055      0.017     -0.330      0.742      -0.038       0.027\n",
      "WAR            0.4309      0.065      6.648      0.000       0.304       0.558\n",
      "wRC+           0.0279      0.013      2.119      0.034       0.002       0.054\n",
      "wOBA         -44.2684     18.621     -2.377      0.017     -80.765      -7.772\n",
      "SLG           15.1415      5.632      2.689      0.007       4.104      26.179\n",
      "OBP           21.6281      9.250      2.338      0.019       3.499      39.757\n",
      "==============================================================================\n"
     ]
    }
   ],
   "source": [
    "logitTrain = sm.Logit(ytrain1, sm.add_constant(xtrain1), method = 'kwargs').fit()\n",
    "print(logitTrain.summary())"
   ]
  },
  {
   "cell_type": "markdown",
   "id": "92d8f6b9",
   "metadata": {},
   "source": [
    "I am going to remove Off since its p-value is very large"
   ]
  },
  {
   "cell_type": "code",
   "execution_count": 31,
   "id": "f97a5852",
   "metadata": {},
   "outputs": [],
   "source": [
    "x=star3[[\"WAR\",\"wRC+\",\"wOBA\",\"SLG\",\"OBP\"]]\n",
    "xtrain1, xtest1, ytrain1, ytest1 = train_test_split(x, y, test_size=0.25, random_state = 6)"
   ]
  },
  {
   "cell_type": "code",
   "execution_count": 32,
   "id": "3a479506",
   "metadata": {},
   "outputs": [
    {
     "name": "stdout",
     "output_type": "stream",
     "text": [
      "Optimization terminated successfully.\n",
      "         Current function value: 0.229682\n",
      "         Iterations 8\n",
      "                           Logit Regression Results                           \n",
      "==============================================================================\n",
      "Dep. Variable:              ASstarter   No. Observations:                 2852\n",
      "Model:                          Logit   Df Residuals:                     2846\n",
      "Method:                           MLE   Df Model:                            5\n",
      "Date:                Thu, 09 Dec 2021   Pseudo R-squ.:                  0.2630\n",
      "Time:                        11:07:40   Log-Likelihood:                -655.05\n",
      "converged:                       True   LL-Null:                       -888.76\n",
      "Covariance Type:            nonrobust   LLR p-value:                 8.611e-99\n",
      "==============================================================================\n",
      "                 coef    std err          z      P>|z|      [0.025      0.975]\n",
      "------------------------------------------------------------------------------\n",
      "const         -5.8076      1.349     -4.304      0.000      -8.453      -3.163\n",
      "WAR            0.4186      0.053      7.891      0.000       0.315       0.523\n",
      "wRC+           0.0254      0.011      2.358      0.018       0.004       0.047\n",
      "wOBA         -44.3081     18.628     -2.379      0.017     -80.819      -7.797\n",
      "SLG           14.9805      5.612      2.669      0.008       3.981      25.980\n",
      "OBP           21.2818      9.195      2.314      0.021       3.260      39.304\n",
      "==============================================================================\n"
     ]
    }
   ],
   "source": [
    "logitTrain2 = sm.Logit(ytrain1, sm.add_constant(xtrain1), method = 'kwargs').fit()\n",
    "print(logitTrain2.summary())"
   ]
  },
  {
   "cell_type": "code",
   "execution_count": 39,
   "id": "72eb8598",
   "metadata": {},
   "outputs": [
    {
     "name": "stdout",
     "output_type": "stream",
     "text": [
      "Accuracy test Logistic regression of all stats: 0.9263932702418507\n",
      "Accuracy train Logistic regression of all stats: 0.9137447405329593\n"
     ]
    }
   ],
   "source": [
    "ypredTestAll = round(logitTrain2.predict(sm.add_constant(xtest1)))\n",
    "print(\"Accuracy test Logistic regression of all stats:\",metrics.accuracy_score(ytest1, ypredTestAll))\n",
    "ypredTrainAll = round(logitTrain2.predict(sm.add_constant(xtrain1)))\n",
    "print(\"Accuracy train Logistic regression of all stats:\",metrics.accuracy_score(ytrain1, ypredTrainAll))"
   ]
  },
  {
   "cell_type": "code",
   "execution_count": 40,
   "id": "7ee8808d",
   "metadata": {},
   "outputs": [
    {
     "data": {
      "image/png": "[encoded data removed]",
      "text/plain": [
       "<Figure size 432x288 with 2 Axes>"
      ]
     },
     "metadata": {},
     "output_type": "display_data"
    }
   ],
   "source": [
    "conf= metrics.confusion_matrix(ytrain1, ypredTrainAll)\n",
    "sns.heatmap(conf, annot=True, fmt=\".3f\", square = True);\n",
    "plt.ylabel('Actual');\n",
    "plt.xlabel('Predicted');\n",
    "plt.title('Training Data Confusion Matrix Logistic Regression Using All stats');"
   ]
  },
  {
   "cell_type": "code",
   "execution_count": 41,
   "id": "f631c634",
   "metadata": {},
   "outputs": [
    {
     "data": {
      "image/png": "[encoded data removed]",
      "text/plain": [
       "<Figure size 432x288 with 2 Axes>"
      ]
     },
     "metadata": {},
     "output_type": "display_data"
    }
   ],
   "source": [
    "conf= metrics.confusion_matrix(ytest1, ypredTestAll)\n",
    "sns.heatmap(conf, annot=True, fmt=\".3f\", square = True);\n",
    "plt.ylabel('Actual');\n",
    "plt.xlabel('Predicted');\n",
    "plt.title('Testing Data Confusion Matrix Logistic Regression Using All stats');"
   ]
  },
  {
   "cell_type": "code",
   "execution_count": 42,
   "id": "b4e9983d",
   "metadata": {},
   "outputs": [
    {
     "data": {
      "image/png": "[encoded data removed]",
      "text/plain": [
       "<Figure size 432x288 with 1 Axes>"
      ]
     },
     "metadata": {},
     "output_type": "display_data"
    }
   ],
   "source": [
    "fpr, tpr, thresholds = metrics.roc_curve(ytrain1, logitTrain2.predict(sm.add_constant(xtrain1)))\n",
    "plt.figure()\n",
    "plt.plot(fpr, tpr, label='Logistic Regression (area = %0.2f)')\n",
    "plt.plot([0, 1], [0, 1],'r--')\n",
    "plt.xlabel('False Positive Rate')\n",
    "plt.ylabel('True Positive Rate')\n",
    "plt.title('Training Receiver operating characteristic ROC')\n",
    "plt.show()"
   ]
  },
  {
   "cell_type": "code",
   "execution_count": null,
   "id": "d7fd4fb9",
   "metadata": {},
   "outputs": [],
   "source": []
  }
 ],
 "metadata": {
  "kernelspec": {
   "display_name": "Python 3",
   "language": "python",
   "name": "python3"
  },
  "language_info": {
   "codemirror_mode": {
    "name": "ipython",
    "version": 3
   },
   "file_extension": ".py",
   "mimetype": "text/x-python",
   "name": "python",
   "nbconvert_exporter": "python",
   "pygments_lexer": "ipython3",
   "version": "3.8.8"
  }
 },
 "nbformat": 4,
 "nbformat_minor": 5
}
